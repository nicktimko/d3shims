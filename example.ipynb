{
 "cells": [
  {
   "cell_type": "code",
   "execution_count": 1,
   "metadata": {
    "collapsed": true
   },
   "outputs": [],
   "source": [
    "import networkx as nx\n",
    "import d3graph"
   ]
  },
  {
   "cell_type": "code",
   "execution_count": 2,
   "metadata": {
    "collapsed": false
   },
   "outputs": [
    {
     "data": {
      "text/html": [
       "<style>\n",
       "    .node {\n",
       "      stroke: #fff;\n",
       "      stroke-width: 1.5px;\n",
       "    }\n",
       "\n",
       "    .link {\n",
       "      stroke: #999;\n",
       "      stroke-opacity: .6;\n",
       "    }\n",
       "</style>\n",
       "<script>\n",
       "+function() {\n",
       "    var options = {\n",
       "        'divid': '#xf7ee1d53d39b4c79a3cd4198cacb3b1b',\n",
       "        'data': {\"links\": [{\"value\": 1, \"source\": 0, \"target\": 1}, {\"value\": 1, \"source\": 0, \"target\": 2}, {\"value\": 1, \"source\": 0, \"target\": 3}, {\"value\": 1, \"source\": 0, \"target\": 4}, {\"value\": 1, \"source\": 4, \"target\": 9}, {\"value\": 1, \"source\": 4, \"target\": 5}, {\"value\": 1, \"source\": 5, \"target\": 6}, {\"value\": 1, \"source\": 6, \"target\": 7}, {\"value\": 1, \"source\": 7, \"target\": 8}, {\"value\": 1, \"source\": 8, \"target\": 9}], \"nodes\": [{\"group\": 0, \"name\": \"0\"}, {\"group\": 0, \"name\": \"1\"}, {\"group\": 0, \"name\": \"2\"}, {\"group\": 0, \"name\": \"3\"}, {\"group\": 0, \"name\": \"4\"}, {\"group\": 0, \"name\": \"5\"}, {\"group\": 0, \"name\": \"6\"}, {\"group\": 0, \"name\": \"7\"}, {\"group\": 0, \"name\": \"8\"}, {\"group\": 0, \"name\": \"9\"}]},\n",
       "        'width': 200,\n",
       "        'height': 200,\n",
       "    }\n",
       "\n",
       "    if (window.d3 === undefined) {\n",
       "        console.log('Loading D3 from CDN');\n",
       "        $.getScript('https://cdnjs.cloudflare.com/ajax/libs/d3/3.5.7/d3.js')\n",
       "            .done(function() {\n",
       "                plot_force(options);\n",
       "            });\n",
       "    } else {\n",
       "        plot_force(options);\n",
       "    }\n",
       "\n",
       "    function plot_force(o) {\n",
       "        var color = d3.scale.category20();\n",
       "\n",
       "        var svg = d3.select(o.divid).append(\"svg\")\n",
       "            .attr(\"width\", o.width)\n",
       "            .attr(\"height\", o.height);\n",
       "\n",
       "        var force = d3.layout.force()\n",
       "            .charge(-120)\n",
       "            .linkDistance(30)\n",
       "            .size([o.width, o.height])\n",
       "            .nodes(o.data.nodes)\n",
       "            .links(o.data.links)\n",
       "            .start();\n",
       "\n",
       "        var link = svg.selectAll(\".link\")\n",
       "                .data(o.data.links)\n",
       "            .enter().append(\"line\")\n",
       "                .attr(\"class\", \"link\")\n",
       "                .style(\"stroke-width\", function(d) { return Math.sqrt(d.value); });\n",
       "\n",
       "        var node = svg.selectAll(\".node\")\n",
       "                .data(o.data.nodes)\n",
       "            .enter().append(\"circle\")\n",
       "                .attr(\"class\", \"node\")\n",
       "                .attr(\"r\", 5)\n",
       "                .style(\"fill\", function(d) { return color(d.group); })\n",
       "                .call(force.drag);\n",
       "\n",
       "        node.append(\"title\")\n",
       "            .text(function(d) { return d.name; });\n",
       "\n",
       "        force.on(\"tick\", function() {\n",
       "            link.attr(\"x1\", function(d) { return d.source.x; })\n",
       "                .attr(\"y1\", function(d) { return d.source.y; })\n",
       "                .attr(\"x2\", function(d) { return d.target.x; })\n",
       "                .attr(\"y2\", function(d) { return d.target.y; });\n",
       "\n",
       "            node.attr(\"cx\", function(d) { return d.x; })\n",
       "                .attr(\"cy\", function(d) { return d.y; });\n",
       "        });\n",
       "    }\n",
       "}();\n",
       "</script>\n",
       "<div id=\"xf7ee1d53d39b4c79a3cd4198cacb3b1b\">\n",
       "</div>"
      ],
      "text/plain": [
       "<IPython.core.display.HTML object>"
      ]
     },
     "execution_count": 2,
     "metadata": {},
     "output_type": "execute_result"
    }
   ],
   "source": [
    "G = nx.Graph()\n",
    "G.add_star(range(5))\n",
    "G.add_cycle(range(4, 10))\n",
    "\n",
    "d3graph.force(G, size=(200, 200))"
   ]
  },
  {
   "cell_type": "code",
   "execution_count": 3,
   "metadata": {
    "collapsed": true
   },
   "outputs": [],
   "source": [
    "lesmis = {\"nodes\": [{\"group\": 1, \"name\": \"Myriel\"}, {\"group\": 1, \"name\": \"Napoleon\"}, {\"group\": 1, \"name\": \"Mlle.Baptistine\"}, {\"group\": 1, \"name\": \"Mme.Magloire\"}, {\"group\": 1, \"name\": \"CountessdeLo\"}, {\"group\": 1, \"name\": \"Geborand\"}, {\"group\": 1, \"name\": \"Champtercier\"}, {\"group\": 1, \"name\": \"Cravatte\"}, {\"group\": 1, \"name\": \"Count\"}, {\"group\": 1, \"name\": \"OldMan\"}, {\"group\": 2, \"name\": \"Labarre\"}, {\"group\": 2, \"name\": \"Valjean\"}, {\"group\": 3, \"name\": \"Marguerite\"}, {\"group\": 2, \"name\": \"Mme.deR\"}, {\"group\": 2, \"name\": \"Isabeau\"}, {\"group\": 2, \"name\": \"Gervais\"}, {\"group\": 3, \"name\": \"Tholomyes\"}, {\"group\": 3, \"name\": \"Listolier\"}, {\"group\": 3, \"name\": \"Fameuil\"}, {\"group\": 3, \"name\": \"Blacheville\"}, {\"group\": 3, \"name\": \"Favourite\"}, {\"group\": 3, \"name\": \"Dahlia\"}, {\"group\": 3, \"name\": \"Zephine\"}, {\"group\": 3, \"name\": \"Fantine\"}, {\"group\": 4, \"name\": \"Mme.Thenardier\"}, {\"group\": 4, \"name\": \"Thenardier\"}, {\"group\": 5, \"name\": \"Cosette\"}, {\"group\": 4, \"name\": \"Javert\"}, {\"group\": 0, \"name\": \"Fauchelevent\"}, {\"group\": 2, \"name\": \"Bamatabois\"}, {\"group\": 3, \"name\": \"Perpetue\"}, {\"group\": 2, \"name\": \"Simplice\"}, {\"group\": 2, \"name\": \"Scaufflaire\"}, {\"group\": 2, \"name\": \"Woman1\"}, {\"group\": 2, \"name\": \"Judge\"}, {\"group\": 2, \"name\": \"Champmathieu\"}, {\"group\": 2, \"name\": \"Brevet\"}, {\"group\": 2, \"name\": \"Chenildieu\"}, {\"group\": 2, \"name\": \"Cochepaille\"}, {\"group\": 4, \"name\": \"Pontmercy\"}, {\"group\": 6, \"name\": \"Boulatruelle\"}, {\"group\": 4, \"name\": \"Eponine\"}, {\"group\": 4, \"name\": \"Anzelma\"}, {\"group\": 5, \"name\": \"Woman2\"}, {\"group\": 0, \"name\": \"MotherInnocent\"}, {\"group\": 0, \"name\": \"Gribier\"}, {\"group\": 7, \"name\": \"Jondrette\"}, {\"group\": 7, \"name\": \"Mme.Burgon\"}, {\"group\": 8, \"name\": \"Gavroche\"}, {\"group\": 5, \"name\": \"Gillenormand\"}, {\"group\": 5, \"name\": \"Magnon\"}, {\"group\": 5, \"name\": \"Mlle.Gillenormand\"}, {\"group\": 5, \"name\": \"Mme.Pontmercy\"}, {\"group\": 5, \"name\": \"Mlle.Vaubois\"}, {\"group\": 5, \"name\": \"Lt.Gillenormand\"}, {\"group\": 8, \"name\": \"Marius\"}, {\"group\": 5, \"name\": \"BaronessT\"}, {\"group\": 8, \"name\": \"Mabeuf\"}, {\"group\": 8, \"name\": \"Enjolras\"}, {\"group\": 8, \"name\": \"Combeferre\"}, {\"group\": 8, \"name\": \"Prouvaire\"}, {\"group\": 8, \"name\": \"Feuilly\"}, {\"group\": 8, \"name\": \"Courfeyrac\"}, {\"group\": 8, \"name\": \"Bahorel\"}, {\"group\": 8, \"name\": \"Bossuet\"}, {\"group\": 8, \"name\": \"Joly\"}, {\"group\": 8, \"name\": \"Grantaire\"}, {\"group\": 9, \"name\": \"MotherPlutarch\"}, {\"group\": 4, \"name\": \"Gueulemer\"}, {\"group\": 4, \"name\": \"Babet\"}, {\"group\": 4, \"name\": \"Claquesous\"}, {\"group\": 4, \"name\": \"Montparnasse\"}, {\"group\": 5, \"name\": \"Toussaint\"}, {\"group\": 10, \"name\": \"Child1\"}, {\"group\": 10, \"name\": \"Child2\"}, {\"group\": 4, \"name\": \"Brujon\"}, {\"group\": 8, \"name\": \"Mme.Hucheloup\"}], \"links\": [{\"target\": 0, \"value\": 1, \"source\": 1}, {\"target\": 0, \"value\": 8, \"source\": 2}, {\"target\": 0, \"value\": 10, \"source\": 3}, {\"target\": 2, \"value\": 6, \"source\": 3}, {\"target\": 0, \"value\": 1, \"source\": 4}, {\"target\": 0, \"value\": 1, \"source\": 5}, {\"target\": 0, \"value\": 1, \"source\": 6}, {\"target\": 0, \"value\": 1, \"source\": 7}, {\"target\": 0, \"value\": 2, \"source\": 8}, {\"target\": 0, \"value\": 1, \"source\": 9}, {\"target\": 10, \"value\": 1, \"source\": 11}, {\"target\": 3, \"value\": 3, \"source\": 11}, {\"target\": 2, \"value\": 3, \"source\": 11}, {\"target\": 0, \"value\": 5, \"source\": 11}, {\"target\": 11, \"value\": 1, \"source\": 12}, {\"target\": 11, \"value\": 1, \"source\": 13}, {\"target\": 11, \"value\": 1, \"source\": 14}, {\"target\": 11, \"value\": 1, \"source\": 15}, {\"target\": 16, \"value\": 4, \"source\": 17}, {\"target\": 16, \"value\": 4, \"source\": 18}, {\"target\": 17, \"value\": 4, \"source\": 18}, {\"target\": 16, \"value\": 4, \"source\": 19}, {\"target\": 17, \"value\": 4, \"source\": 19}, {\"target\": 18, \"value\": 4, \"source\": 19}, {\"target\": 16, \"value\": 3, \"source\": 20}, {\"target\": 17, \"value\": 3, \"source\": 20}, {\"target\": 18, \"value\": 3, \"source\": 20}, {\"target\": 19, \"value\": 4, \"source\": 20}, {\"target\": 16, \"value\": 3, \"source\": 21}, {\"target\": 17, \"value\": 3, \"source\": 21}, {\"target\": 18, \"value\": 3, \"source\": 21}, {\"target\": 19, \"value\": 3, \"source\": 21}, {\"target\": 20, \"value\": 5, \"source\": 21}, {\"target\": 16, \"value\": 3, \"source\": 22}, {\"target\": 17, \"value\": 3, \"source\": 22}, {\"target\": 18, \"value\": 3, \"source\": 22}, {\"target\": 19, \"value\": 3, \"source\": 22}, {\"target\": 20, \"value\": 4, \"source\": 22}, {\"target\": 21, \"value\": 4, \"source\": 22}, {\"target\": 16, \"value\": 3, \"source\": 23}, {\"target\": 17, \"value\": 3, \"source\": 23}, {\"target\": 18, \"value\": 3, \"source\": 23}, {\"target\": 19, \"value\": 3, \"source\": 23}, {\"target\": 20, \"value\": 4, \"source\": 23}, {\"target\": 21, \"value\": 4, \"source\": 23}, {\"target\": 22, \"value\": 4, \"source\": 23}, {\"target\": 12, \"value\": 2, \"source\": 23}, {\"target\": 11, \"value\": 9, \"source\": 23}, {\"target\": 23, \"value\": 2, \"source\": 24}, {\"target\": 11, \"value\": 7, \"source\": 24}, {\"target\": 24, \"value\": 13, \"source\": 25}, {\"target\": 23, \"value\": 1, \"source\": 25}, {\"target\": 11, \"value\": 12, \"source\": 25}, {\"target\": 24, \"value\": 4, \"source\": 26}, {\"target\": 11, \"value\": 31, \"source\": 26}, {\"target\": 16, \"value\": 1, \"source\": 26}, {\"target\": 25, \"value\": 1, \"source\": 26}, {\"target\": 11, \"value\": 17, \"source\": 27}, {\"target\": 23, \"value\": 5, \"source\": 27}, {\"target\": 25, \"value\": 5, \"source\": 27}, {\"target\": 24, \"value\": 1, \"source\": 27}, {\"target\": 26, \"value\": 1, \"source\": 27}, {\"target\": 11, \"value\": 8, \"source\": 28}, {\"target\": 27, \"value\": 1, \"source\": 28}, {\"target\": 23, \"value\": 1, \"source\": 29}, {\"target\": 27, \"value\": 1, \"source\": 29}, {\"target\": 11, \"value\": 2, \"source\": 29}, {\"target\": 23, \"value\": 1, \"source\": 30}, {\"target\": 30, \"value\": 2, \"source\": 31}, {\"target\": 11, \"value\": 3, \"source\": 31}, {\"target\": 23, \"value\": 2, \"source\": 31}, {\"target\": 27, \"value\": 1, \"source\": 31}, {\"target\": 11, \"value\": 1, \"source\": 32}, {\"target\": 11, \"value\": 2, \"source\": 33}, {\"target\": 27, \"value\": 1, \"source\": 33}, {\"target\": 11, \"value\": 3, \"source\": 34}, {\"target\": 29, \"value\": 2, \"source\": 34}, {\"target\": 11, \"value\": 3, \"source\": 35}, {\"target\": 34, \"value\": 3, \"source\": 35}, {\"target\": 29, \"value\": 2, \"source\": 35}, {\"target\": 34, \"value\": 2, \"source\": 36}, {\"target\": 35, \"value\": 2, \"source\": 36}, {\"target\": 11, \"value\": 2, \"source\": 36}, {\"target\": 29, \"value\": 1, \"source\": 36}, {\"target\": 34, \"value\": 2, \"source\": 37}, {\"target\": 35, \"value\": 2, \"source\": 37}, {\"target\": 36, \"value\": 2, \"source\": 37}, {\"target\": 11, \"value\": 2, \"source\": 37}, {\"target\": 29, \"value\": 1, \"source\": 37}, {\"target\": 34, \"value\": 2, \"source\": 38}, {\"target\": 35, \"value\": 2, \"source\": 38}, {\"target\": 36, \"value\": 2, \"source\": 38}, {\"target\": 37, \"value\": 2, \"source\": 38}, {\"target\": 11, \"value\": 2, \"source\": 38}, {\"target\": 29, \"value\": 1, \"source\": 38}, {\"target\": 25, \"value\": 1, \"source\": 39}, {\"target\": 25, \"value\": 1, \"source\": 40}, {\"target\": 24, \"value\": 2, \"source\": 41}, {\"target\": 25, \"value\": 3, \"source\": 41}, {\"target\": 41, \"value\": 2, \"source\": 42}, {\"target\": 25, \"value\": 2, \"source\": 42}, {\"target\": 24, \"value\": 1, \"source\": 42}, {\"target\": 11, \"value\": 3, \"source\": 43}, {\"target\": 26, \"value\": 1, \"source\": 43}, {\"target\": 27, \"value\": 1, \"source\": 43}, {\"target\": 28, \"value\": 3, \"source\": 44}, {\"target\": 11, \"value\": 1, \"source\": 44}, {\"target\": 28, \"value\": 2, \"source\": 45}, {\"target\": 46, \"value\": 1, \"source\": 47}, {\"target\": 47, \"value\": 2, \"source\": 48}, {\"target\": 25, \"value\": 1, \"source\": 48}, {\"target\": 27, \"value\": 1, \"source\": 48}, {\"target\": 11, \"value\": 1, \"source\": 48}, {\"target\": 26, \"value\": 3, \"source\": 49}, {\"target\": 11, \"value\": 2, \"source\": 49}, {\"target\": 49, \"value\": 1, \"source\": 50}, {\"target\": 24, \"value\": 1, \"source\": 50}, {\"target\": 49, \"value\": 9, \"source\": 51}, {\"target\": 26, \"value\": 2, \"source\": 51}, {\"target\": 11, \"value\": 2, \"source\": 51}, {\"target\": 51, \"value\": 1, \"source\": 52}, {\"target\": 39, \"value\": 1, \"source\": 52}, {\"target\": 51, \"value\": 1, \"source\": 53}, {\"target\": 51, \"value\": 2, \"source\": 54}, {\"target\": 49, \"value\": 1, \"source\": 54}, {\"target\": 26, \"value\": 1, \"source\": 54}, {\"target\": 51, \"value\": 6, \"source\": 55}, {\"target\": 49, \"value\": 12, \"source\": 55}, {\"target\": 39, \"value\": 1, \"source\": 55}, {\"target\": 54, \"value\": 1, \"source\": 55}, {\"target\": 26, \"value\": 21, \"source\": 55}, {\"target\": 11, \"value\": 19, \"source\": 55}, {\"target\": 16, \"value\": 1, \"source\": 55}, {\"target\": 25, \"value\": 2, \"source\": 55}, {\"target\": 41, \"value\": 5, \"source\": 55}, {\"target\": 48, \"value\": 4, \"source\": 55}, {\"target\": 49, \"value\": 1, \"source\": 56}, {\"target\": 55, \"value\": 1, \"source\": 56}, {\"target\": 55, \"value\": 1, \"source\": 57}, {\"target\": 41, \"value\": 1, \"source\": 57}, {\"target\": 48, \"value\": 1, \"source\": 57}, {\"target\": 55, \"value\": 7, \"source\": 58}, {\"target\": 48, \"value\": 7, \"source\": 58}, {\"target\": 27, \"value\": 6, \"source\": 58}, {\"target\": 57, \"value\": 1, \"source\": 58}, {\"target\": 11, \"value\": 4, \"source\": 58}, {\"target\": 58, \"value\": 15, \"source\": 59}, {\"target\": 55, \"value\": 5, \"source\": 59}, {\"target\": 48, \"value\": 6, \"source\": 59}, {\"target\": 57, \"value\": 2, \"source\": 59}, {\"target\": 48, \"value\": 1, \"source\": 60}, {\"target\": 58, \"value\": 4, \"source\": 60}, {\"target\": 59, \"value\": 2, \"source\": 60}, {\"target\": 48, \"value\": 2, \"source\": 61}, {\"target\": 58, \"value\": 6, \"source\": 61}, {\"target\": 60, \"value\": 2, \"source\": 61}, {\"target\": 59, \"value\": 5, \"source\": 61}, {\"target\": 57, \"value\": 1, \"source\": 61}, {\"target\": 55, \"value\": 1, \"source\": 61}, {\"target\": 55, \"value\": 9, \"source\": 62}, {\"target\": 58, \"value\": 17, \"source\": 62}, {\"target\": 59, \"value\": 13, \"source\": 62}, {\"target\": 48, \"value\": 7, \"source\": 62}, {\"target\": 57, \"value\": 2, \"source\": 62}, {\"target\": 41, \"value\": 1, \"source\": 62}, {\"target\": 61, \"value\": 6, \"source\": 62}, {\"target\": 60, \"value\": 3, \"source\": 62}, {\"target\": 59, \"value\": 5, \"source\": 63}, {\"target\": 48, \"value\": 5, \"source\": 63}, {\"target\": 62, \"value\": 6, \"source\": 63}, {\"target\": 57, \"value\": 2, \"source\": 63}, {\"target\": 58, \"value\": 4, \"source\": 63}, {\"target\": 61, \"value\": 3, \"source\": 63}, {\"target\": 60, \"value\": 2, \"source\": 63}, {\"target\": 55, \"value\": 1, \"source\": 63}, {\"target\": 55, \"value\": 5, \"source\": 64}, {\"target\": 62, \"value\": 12, \"source\": 64}, {\"target\": 48, \"value\": 5, \"source\": 64}, {\"target\": 63, \"value\": 4, \"source\": 64}, {\"target\": 58, \"value\": 10, \"source\": 64}, {\"target\": 61, \"value\": 6, \"source\": 64}, {\"target\": 60, \"value\": 2, \"source\": 64}, {\"target\": 59, \"value\": 9, \"source\": 64}, {\"target\": 57, \"value\": 1, \"source\": 64}, {\"target\": 11, \"value\": 1, \"source\": 64}, {\"target\": 63, \"value\": 5, \"source\": 65}, {\"target\": 64, \"value\": 7, \"source\": 65}, {\"target\": 48, \"value\": 3, \"source\": 65}, {\"target\": 62, \"value\": 5, \"source\": 65}, {\"target\": 58, \"value\": 5, \"source\": 65}, {\"target\": 61, \"value\": 5, \"source\": 65}, {\"target\": 60, \"value\": 2, \"source\": 65}, {\"target\": 59, \"value\": 5, \"source\": 65}, {\"target\": 57, \"value\": 1, \"source\": 65}, {\"target\": 55, \"value\": 2, \"source\": 65}, {\"target\": 64, \"value\": 3, \"source\": 66}, {\"target\": 58, \"value\": 3, \"source\": 66}, {\"target\": 59, \"value\": 1, \"source\": 66}, {\"target\": 62, \"value\": 2, \"source\": 66}, {\"target\": 65, \"value\": 2, \"source\": 66}, {\"target\": 48, \"value\": 1, \"source\": 66}, {\"target\": 63, \"value\": 1, \"source\": 66}, {\"target\": 61, \"value\": 1, \"source\": 66}, {\"target\": 60, \"value\": 1, \"source\": 66}, {\"target\": 57, \"value\": 3, \"source\": 67}, {\"target\": 25, \"value\": 5, \"source\": 68}, {\"target\": 11, \"value\": 1, \"source\": 68}, {\"target\": 24, \"value\": 1, \"source\": 68}, {\"target\": 27, \"value\": 1, \"source\": 68}, {\"target\": 48, \"value\": 1, \"source\": 68}, {\"target\": 41, \"value\": 1, \"source\": 68}, {\"target\": 25, \"value\": 6, \"source\": 69}, {\"target\": 68, \"value\": 6, \"source\": 69}, {\"target\": 11, \"value\": 1, \"source\": 69}, {\"target\": 24, \"value\": 1, \"source\": 69}, {\"target\": 27, \"value\": 2, \"source\": 69}, {\"target\": 48, \"value\": 1, \"source\": 69}, {\"target\": 41, \"value\": 1, \"source\": 69}, {\"target\": 25, \"value\": 4, \"source\": 70}, {\"target\": 69, \"value\": 4, \"source\": 70}, {\"target\": 68, \"value\": 4, \"source\": 70}, {\"target\": 11, \"value\": 1, \"source\": 70}, {\"target\": 24, \"value\": 1, \"source\": 70}, {\"target\": 27, \"value\": 1, \"source\": 70}, {\"target\": 41, \"value\": 1, \"source\": 70}, {\"target\": 58, \"value\": 1, \"source\": 70}, {\"target\": 27, \"value\": 1, \"source\": 71}, {\"target\": 69, \"value\": 2, \"source\": 71}, {\"target\": 68, \"value\": 2, \"source\": 71}, {\"target\": 70, \"value\": 2, \"source\": 71}, {\"target\": 11, \"value\": 1, \"source\": 71}, {\"target\": 48, \"value\": 1, \"source\": 71}, {\"target\": 41, \"value\": 1, \"source\": 71}, {\"target\": 25, \"value\": 1, \"source\": 71}, {\"target\": 26, \"value\": 2, \"source\": 72}, {\"target\": 27, \"value\": 1, \"source\": 72}, {\"target\": 11, \"value\": 1, \"source\": 72}, {\"target\": 48, \"value\": 2, \"source\": 73}, {\"target\": 48, \"value\": 2, \"source\": 74}, {\"target\": 73, \"value\": 3, \"source\": 74}, {\"target\": 69, \"value\": 3, \"source\": 75}, {\"target\": 68, \"value\": 3, \"source\": 75}, {\"target\": 25, \"value\": 3, \"source\": 75}, {\"target\": 48, \"value\": 1, \"source\": 75}, {\"target\": 41, \"value\": 1, \"source\": 75}, {\"target\": 70, \"value\": 1, \"source\": 75}, {\"target\": 71, \"value\": 1, \"source\": 75}, {\"target\": 64, \"value\": 1, \"source\": 76}, {\"target\": 65, \"value\": 1, \"source\": 76}, {\"target\": 66, \"value\": 1, \"source\": 76}, {\"target\": 63, \"value\": 1, \"source\": 76}, {\"target\": 62, \"value\": 1, \"source\": 76}, {\"target\": 48, \"value\": 1, \"source\": 76}, {\"target\": 58, \"value\": 1, \"source\": 76}]}"
   ]
  },
  {
   "cell_type": "code",
   "execution_count": 4,
   "metadata": {
    "collapsed": false
   },
   "outputs": [
    {
     "data": {
      "text/html": [
       "<style>\n",
       "    .node {\n",
       "      stroke: #fff;\n",
       "      stroke-width: 1.5px;\n",
       "    }\n",
       "\n",
       "    .link {\n",
       "      stroke: #999;\n",
       "      stroke-opacity: .6;\n",
       "    }\n",
       "</style>\n",
       "<script>\n",
       "+function() {\n",
       "    var options = {\n",
       "        'divid': '#x9ca0ad319b1341ce8178a6a328a7e515',\n",
       "        'data': {\"links\": [{\"value\": 1, \"source\": 0, \"target\": 41}, {\"value\": 5, \"source\": 0, \"target\": 6}, {\"value\": 2, \"source\": 0, \"target\": 21}, {\"value\": 2, \"source\": 0, \"target\": 54}, {\"value\": 1, \"source\": 0, \"target\": 25}, {\"value\": 1, \"source\": 0, \"target\": 9}, {\"value\": 1, \"source\": 0, \"target\": 27}, {\"value\": 13, \"source\": 0, \"target\": 28}, {\"value\": 1, \"source\": 0, \"target\": 11}, {\"value\": 4, \"source\": 0, \"target\": 10}, {\"value\": 12, \"source\": 0, \"target\": 72}, {\"value\": 6, \"source\": 0, \"target\": 52}, {\"value\": 1, \"source\": 0, \"target\": 14}, {\"value\": 5, \"source\": 0, \"target\": 31}, {\"value\": 3, \"source\": 0, \"target\": 5}, {\"value\": 3, \"source\": 0, \"target\": 32}, {\"value\": 2, \"source\": 1, \"target\": 72}, {\"value\": 1, \"source\": 1, \"target\": 18}, {\"value\": 1, \"source\": 1, \"target\": 29}, {\"value\": 12, \"source\": 1, \"target\": 21}, {\"value\": 3, \"source\": 1, \"target\": 14}, {\"value\": 1, \"source\": 1, \"target\": 74}, {\"value\": 9, \"source\": 1, \"target\": 23}, {\"value\": 4, \"source\": 2, \"target\": 17}, {\"value\": 3, \"source\": 2, \"target\": 27}, {\"value\": 3, \"source\": 2, \"target\": 39}, {\"value\": 1, \"source\": 2, \"target\": 14}, {\"value\": 4, \"source\": 2, \"target\": 20}, {\"value\": 1, \"source\": 2, \"target\": 21}, {\"value\": 4, \"source\": 2, \"target\": 46}, {\"value\": 3, \"source\": 2, \"target\": 15}, {\"value\": 3, \"source\": 2, \"target\": 73}, {\"value\": 2, \"source\": 3, \"target\": 36}, {\"value\": 2, \"source\": 3, \"target\": 72}, {\"value\": 2, \"source\": 3, \"target\": 19}, {\"value\": 2, \"source\": 3, \"target\": 13}, {\"value\": 1, \"source\": 3, \"target\": 16}, {\"value\": 2, \"source\": 3, \"target\": 53}, {\"value\": 1, \"source\": 4, \"target\": 44}, {\"value\": 1, \"source\": 5, \"target\": 10}, {\"value\": 2, \"source\": 5, \"target\": 28}, {\"value\": 1, \"source\": 5, \"target\": 66}, {\"value\": 1, \"source\": 5, \"target\": 71}, {\"value\": 5, \"source\": 5, \"target\": 21}, {\"value\": 1, \"source\": 5, \"target\": 32}, {\"value\": 1, \"source\": 5, \"target\": 31}, {\"value\": 2, \"source\": 5, \"target\": 54}, {\"value\": 1, \"source\": 5, \"target\": 41}, {\"value\": 1, \"source\": 5, \"target\": 52}, {\"value\": 1, \"source\": 6, \"target\": 16}, {\"value\": 1, \"source\": 6, \"target\": 35}, {\"value\": 1, \"source\": 6, \"target\": 56}, {\"value\": 1, \"source\": 6, \"target\": 41}, {\"value\": 6, \"source\": 6, \"target\": 70}, {\"value\": 1, \"source\": 6, \"target\": 47}, {\"value\": 5, \"source\": 6, \"target\": 27}, {\"value\": 1, \"source\": 6, \"target\": 28}, {\"value\": 1, \"source\": 6, \"target\": 11}, {\"value\": 1, \"source\": 6, \"target\": 10}, {\"value\": 1, \"source\": 6, \"target\": 51}, {\"value\": 2, \"source\": 6, \"target\": 52}, {\"value\": 1, \"source\": 6, \"target\": 14}, {\"value\": 1, \"source\": 6, \"target\": 31}, {\"value\": 17, \"source\": 6, \"target\": 72}, {\"value\": 1, \"source\": 6, \"target\": 76}, {\"value\": 10, \"source\": 7, \"target\": 65}, {\"value\": 1, \"source\": 7, \"target\": 48}, {\"value\": 1, \"source\": 7, \"target\": 37}, {\"value\": 1, \"source\": 7, \"target\": 50}, {\"value\": 2, \"source\": 7, \"target\": 69}, {\"value\": 1, \"source\": 7, \"target\": 57}, {\"value\": 5, \"source\": 7, \"target\": 72}, {\"value\": 1, \"source\": 7, \"target\": 61}, {\"value\": 8, \"source\": 7, \"target\": 62}, {\"value\": 1, \"source\": 7, \"target\": 67}, {\"value\": 3, \"source\": 8, \"target\": 71}, {\"value\": 1, \"source\": 9, \"target\": 33}, {\"value\": 1, \"source\": 9, \"target\": 21}, {\"value\": 2, \"source\": 10, \"target\": 41}, {\"value\": 1, \"source\": 10, \"target\": 72}, {\"value\": 1, \"source\": 10, \"target\": 28}, {\"value\": 1, \"source\": 10, \"target\": 70}, {\"value\": 4, \"source\": 10, \"target\": 52}, {\"value\": 4, \"source\": 10, \"target\": 31}, {\"value\": 1, \"source\": 10, \"target\": 32}, {\"value\": 5, \"source\": 11, \"target\": 34}, {\"value\": 1, \"source\": 11, \"target\": 59}, {\"value\": 1, \"source\": 11, \"target\": 43}, {\"value\": 2, \"source\": 11, \"target\": 44}, {\"value\": 6, \"source\": 11, \"target\": 45}, {\"value\": 2, \"source\": 11, \"target\": 12}, {\"value\": 1, \"source\": 11, \"target\": 52}, {\"value\": 1, \"source\": 11, \"target\": 32}, {\"value\": 1, \"source\": 11, \"target\": 41}, {\"value\": 7, \"source\": 11, \"target\": 66}, {\"value\": 7, \"source\": 11, \"target\": 70}, {\"value\": 4, \"source\": 11, \"target\": 21}, {\"value\": 5, \"source\": 11, \"target\": 24}, {\"value\": 1, \"source\": 11, \"target\": 63}, {\"value\": 3, \"source\": 11, \"target\": 68}, {\"value\": 2, \"source\": 11, \"target\": 22}, {\"value\": 1, \"source\": 11, \"target\": 71}, {\"value\": 1, \"source\": 11, \"target\": 72}, {\"value\": 1, \"source\": 11, \"target\": 31}, {\"value\": 2, \"source\": 11, \"target\": 30}, {\"value\": 3, \"source\": 12, \"target\": 30}, {\"value\": 2, \"source\": 13, \"target\": 36}, {\"value\": 2, \"source\": 13, \"target\": 72}, {\"value\": 1, \"source\": 13, \"target\": 16}, {\"value\": 2, \"source\": 13, \"target\": 19}, {\"value\": 2, \"source\": 13, \"target\": 53}, {\"value\": 4, \"source\": 14, \"target\": 28}, {\"value\": 1, \"source\": 14, \"target\": 18}, {\"value\": 1, \"source\": 14, \"target\": 51}, {\"value\": 31, \"source\": 14, \"target\": 72}, {\"value\": 21, \"source\": 14, \"target\": 21}, {\"value\": 2, \"source\": 14, \"target\": 23}, {\"value\": 2, \"source\": 14, \"target\": 56}, {\"value\": 4, \"source\": 15, \"target\": 27}, {\"value\": 3, \"source\": 15, \"target\": 17}, {\"value\": 4, \"source\": 15, \"target\": 39}, {\"value\": 3, \"source\": 15, \"target\": 20}, {\"value\": 3, \"source\": 15, \"target\": 46}, {\"value\": 4, \"source\": 15, \"target\": 73}, {\"value\": 1, \"source\": 16, \"target\": 27}, {\"value\": 2, \"source\": 16, \"target\": 72}, {\"value\": 2, \"source\": 16, \"target\": 36}, {\"value\": 1, \"source\": 16, \"target\": 19}, {\"value\": 2, \"source\": 16, \"target\": 53}, {\"value\": 3, \"source\": 17, \"target\": 27}, {\"value\": 3, \"source\": 17, \"target\": 39}, {\"value\": 4, \"source\": 17, \"target\": 20}, {\"value\": 4, \"source\": 17, \"target\": 46}, {\"value\": 3, \"source\": 17, \"target\": 73}, {\"value\": 1, \"source\": 18, \"target\": 21}, {\"value\": 2, \"source\": 18, \"target\": 23}, {\"value\": 2, \"source\": 19, \"target\": 36}, {\"value\": 2, \"source\": 19, \"target\": 72}, {\"value\": 2, \"source\": 19, \"target\": 53}, {\"value\": 3, \"source\": 20, \"target\": 27}, {\"value\": 3, \"source\": 20, \"target\": 39}, {\"value\": 4, \"source\": 20, \"target\": 46}, {\"value\": 4, \"source\": 20, \"target\": 73}, {\"value\": 5, \"source\": 21, \"target\": 24}, {\"value\": 9, \"source\": 21, \"target\": 66}, {\"value\": 7, \"source\": 21, \"target\": 70}, {\"value\": 6, \"source\": 21, \"target\": 23}, {\"value\": 2, \"source\": 21, \"target\": 68}, {\"value\": 5, \"source\": 21, \"target\": 45}, {\"value\": 19, \"source\": 21, \"target\": 72}, {\"value\": 1, \"source\": 21, \"target\": 22}, {\"value\": 1, \"source\": 21, \"target\": 71}, {\"value\": 1, \"source\": 21, \"target\": 74}, {\"value\": 1, \"source\": 21, \"target\": 34}, {\"value\": 1, \"source\": 22, \"target\": 59}, {\"value\": 2, \"source\": 22, \"target\": 63}, {\"value\": 5, \"source\": 22, \"target\": 68}, {\"value\": 6, \"source\": 22, \"target\": 66}, {\"value\": 1, \"source\": 22, \"target\": 71}, {\"value\": 6, \"source\": 22, \"target\": 70}, {\"value\": 6, \"source\": 22, \"target\": 24}, {\"value\": 5, \"source\": 22, \"target\": 45}, {\"value\": 3, \"source\": 22, \"target\": 34}, {\"value\": 1, \"source\": 23, \"target\": 33}, {\"value\": 2, \"source\": 23, \"target\": 72}, {\"value\": 1, \"source\": 23, \"target\": 60}, {\"value\": 12, \"source\": 24, \"target\": 66}, {\"value\": 10, \"source\": 24, \"target\": 70}, {\"value\": 1, \"source\": 24, \"target\": 43}, {\"value\": 9, \"source\": 24, \"target\": 45}, {\"value\": 7, \"source\": 24, \"target\": 68}, {\"value\": 3, \"source\": 24, \"target\": 59}, {\"value\": 2, \"source\": 24, \"target\": 63}, {\"value\": 1, \"source\": 24, \"target\": 72}, {\"value\": 1, \"source\": 24, \"target\": 71}, {\"value\": 4, \"source\": 24, \"target\": 34}, {\"value\": 1, \"source\": 26, \"target\": 72}, {\"value\": 3, \"source\": 26, \"target\": 76}, {\"value\": 4, \"source\": 27, \"target\": 39}, {\"value\": 2, \"source\": 27, \"target\": 42}, {\"value\": 3, \"source\": 27, \"target\": 46}, {\"value\": 2, \"source\": 27, \"target\": 47}, {\"value\": 9, \"source\": 27, \"target\": 72}, {\"value\": 2, \"source\": 27, \"target\": 28}, {\"value\": 1, \"source\": 27, \"target\": 55}, {\"value\": 4, \"source\": 27, \"target\": 73}, {\"value\": 7, \"source\": 28, \"target\": 72}, {\"value\": 1, \"source\": 28, \"target\": 29}, {\"value\": 1, \"source\": 28, \"target\": 31}, {\"value\": 1, \"source\": 28, \"target\": 54}, {\"value\": 1, \"source\": 28, \"target\": 52}, {\"value\": 2, \"source\": 31, \"target\": 41}, {\"value\": 1, \"source\": 31, \"target\": 72}, {\"value\": 6, \"source\": 31, \"target\": 52}, {\"value\": 3, \"source\": 31, \"target\": 32}, {\"value\": 1, \"source\": 32, \"target\": 41}, {\"value\": 3, \"source\": 32, \"target\": 52}, {\"value\": 6, \"source\": 34, \"target\": 66}, {\"value\": 4, \"source\": 34, \"target\": 70}, {\"value\": 1, \"source\": 34, \"target\": 43}, {\"value\": 5, \"source\": 34, \"target\": 45}, {\"value\": 1, \"source\": 34, \"target\": 59}, {\"value\": 2, \"source\": 34, \"target\": 63}, {\"value\": 5, \"source\": 34, \"target\": 68}, {\"value\": 2, \"source\": 34, \"target\": 71}, {\"value\": 2, \"source\": 35, \"target\": 72}, {\"value\": 3, \"source\": 36, \"target\": 72}, {\"value\": 3, \"source\": 36, \"target\": 53}, {\"value\": 1, \"source\": 38, \"target\": 72}, {\"value\": 3, \"source\": 39, \"target\": 46}, {\"value\": 5, \"source\": 39, \"target\": 73}, {\"value\": 1, \"source\": 40, \"target\": 72}, {\"value\": 1, \"source\": 41, \"target\": 72}, {\"value\": 2, \"source\": 41, \"target\": 52}, {\"value\": 1, \"source\": 42, \"target\": 72}, {\"value\": 1, \"source\": 43, \"target\": 59}, {\"value\": 1, \"source\": 43, \"target\": 68}, {\"value\": 1, \"source\": 43, \"target\": 66}, {\"value\": 1, \"source\": 43, \"target\": 70}, {\"value\": 1, \"source\": 45, \"target\": 59}, {\"value\": 2, \"source\": 45, \"target\": 63}, {\"value\": 5, \"source\": 45, \"target\": 68}, {\"value\": 13, \"source\": 45, \"target\": 66}, {\"value\": 2, \"source\": 45, \"target\": 71}, {\"value\": 15, \"source\": 45, \"target\": 70}, {\"value\": 3, \"source\": 46, \"target\": 73}, {\"value\": 3, \"source\": 47, \"target\": 72}, {\"value\": 2, \"source\": 47, \"target\": 55}, {\"value\": 2, \"source\": 49, \"target\": 76}, {\"value\": 3, \"source\": 51, \"target\": 72}, {\"value\": 1, \"source\": 52, \"target\": 72}, {\"value\": 3, \"source\": 53, \"target\": 72}, {\"value\": 1, \"source\": 56, \"target\": 72}, {\"value\": 1, \"source\": 58, \"target\": 72}, {\"value\": 1, \"source\": 59, \"target\": 63}, {\"value\": 2, \"source\": 59, \"target\": 68}, {\"value\": 2, \"source\": 59, \"target\": 66}, {\"value\": 3, \"source\": 59, \"target\": 70}, {\"value\": 6, \"source\": 62, \"target\": 65}, {\"value\": 3, \"source\": 62, \"target\": 72}, {\"value\": 2, \"source\": 63, \"target\": 68}, {\"value\": 3, \"source\": 63, \"target\": 66}, {\"value\": 4, \"source\": 63, \"target\": 70}, {\"value\": 1, \"source\": 64, \"target\": 72}, {\"value\": 3, \"source\": 65, \"target\": 72}, {\"value\": 17, \"source\": 66, \"target\": 70}, {\"value\": 5, \"source\": 66, \"target\": 68}, {\"value\": 2, \"source\": 66, \"target\": 71}, {\"value\": 5, \"source\": 68, \"target\": 70}, {\"value\": 1, \"source\": 68, \"target\": 71}, {\"value\": 4, \"source\": 70, \"target\": 72}, {\"value\": 1, \"source\": 70, \"target\": 71}, {\"value\": 1, \"source\": 72, \"target\": 75}, {\"value\": 8, \"source\": 72, \"target\": 76}], \"nodes\": [{\"group\": 4, \"name\": \"Thenardier\"}, {\"group\": 5, \"name\": \"Gillenormand\"}, {\"group\": 3, \"name\": \"Tholomyes\"}, {\"group\": 2, \"name\": \"Cochepaille\"}, {\"group\": 7, \"name\": \"Jondrette\"}, {\"group\": 4, \"name\": \"Eponine\"}, {\"group\": 4, \"name\": \"Javert\"}, {\"group\": 1, \"name\": \"Myriel\"}, {\"group\": 9, \"name\": \"MotherPlutarch\"}, {\"group\": 4, \"name\": \"Pontmercy\"}, {\"group\": 4, \"name\": \"Claquesous\"}, {\"group\": 8, \"name\": \"Gavroche\"}, {\"group\": 10, \"name\": \"Child2\"}, {\"group\": 2, \"name\": \"Chenildieu\"}, {\"group\": 5, \"name\": \"Cosette\"}, {\"group\": 3, \"name\": \"Zephine\"}, {\"group\": 2, \"name\": \"Bamatabois\"}, {\"group\": 3, \"name\": \"Fameuil\"}, {\"group\": 5, \"name\": \"Lt.Gillenormand\"}, {\"group\": 2, \"name\": \"Brevet\"}, {\"group\": 3, \"name\": \"Blacheville\"}, {\"group\": 8, \"name\": \"Marius\"}, {\"group\": 8, \"name\": \"Feuilly\"}, {\"group\": 5, \"name\": \"Mlle.Gillenormand\"}, {\"group\": 8, \"name\": \"Bossuet\"}, {\"group\": 6, \"name\": \"Boulatruelle\"}, {\"group\": 0, \"name\": \"MotherInnocent\"}, {\"group\": 3, \"name\": \"Fantine\"}, {\"group\": 4, \"name\": \"Mme.Thenardier\"}, {\"group\": 5, \"name\": \"Magnon\"}, {\"group\": 10, \"name\": \"Child1\"}, {\"group\": 4, \"name\": \"Gueulemer\"}, {\"group\": 4, \"name\": \"Brujon\"}, {\"group\": 5, \"name\": \"Mme.Pontmercy\"}, {\"group\": 8, \"name\": \"Bahorel\"}, {\"group\": 2, \"name\": \"Woman1\"}, {\"group\": 2, \"name\": \"Judge\"}, {\"group\": 1, \"name\": \"CountessdeLo\"}, {\"group\": 2, \"name\": \"Labarre\"}, {\"group\": 3, \"name\": \"Dahlia\"}, {\"group\": 2, \"name\": \"Mme.deR\"}, {\"group\": 4, \"name\": \"Montparnasse\"}, {\"group\": 3, \"name\": \"Marguerite\"}, {\"group\": 8, \"name\": \"Mme.Hucheloup\"}, {\"group\": 7, \"name\": \"Mme.Burgon\"}, {\"group\": 8, \"name\": \"Combeferre\"}, {\"group\": 3, \"name\": \"Listolier\"}, {\"group\": 2, \"name\": \"Simplice\"}, {\"group\": 1, \"name\": \"Napoleon\"}, {\"group\": 0, \"name\": \"Gribier\"}, {\"group\": 1, \"name\": \"Cravatte\"}, {\"group\": 5, \"name\": \"Woman2\"}, {\"group\": 4, \"name\": \"Babet\"}, {\"group\": 2, \"name\": \"Champmathieu\"}, {\"group\": 4, \"name\": \"Anzelma\"}, {\"group\": 3, \"name\": \"Perpetue\"}, {\"group\": 5, \"name\": \"Toussaint\"}, {\"group\": 1, \"name\": \"Champtercier\"}, {\"group\": 2, \"name\": \"Gervais\"}, {\"group\": 8, \"name\": \"Grantaire\"}, {\"group\": 5, \"name\": \"Mlle.Vaubois\"}, {\"group\": 1, \"name\": \"OldMan\"}, {\"group\": 1, \"name\": \"Mlle.Baptistine\"}, {\"group\": 8, \"name\": \"Prouvaire\"}, {\"group\": 2, \"name\": \"Isabeau\"}, {\"group\": 1, \"name\": \"Mme.Magloire\"}, {\"group\": 8, \"name\": \"Courfeyrac\"}, {\"group\": 1, \"name\": \"Geborand\"}, {\"group\": 8, \"name\": \"Joly\"}, {\"group\": 1, \"name\": \"Count\"}, {\"group\": 8, \"name\": \"Enjolras\"}, {\"group\": 8, \"name\": \"Mabeuf\"}, {\"group\": 2, \"name\": \"Valjean\"}, {\"group\": 3, \"name\": \"Favourite\"}, {\"group\": 5, \"name\": \"BaronessT\"}, {\"group\": 2, \"name\": \"Scaufflaire\"}, {\"group\": 0, \"name\": \"Fauchelevent\"}]},\n",
       "        'width': 600,\n",
       "        'height': 400,\n",
       "    }\n",
       "\n",
       "    if (window.d3 === undefined) {\n",
       "        console.log('Loading D3 from CDN');\n",
       "        $.getScript('https://cdnjs.cloudflare.com/ajax/libs/d3/3.5.7/d3.js')\n",
       "            .done(function() {\n",
       "                plot_force(options);\n",
       "            });\n",
       "    } else {\n",
       "        plot_force(options);\n",
       "    }\n",
       "\n",
       "    function plot_force(o) {\n",
       "        var color = d3.scale.category20();\n",
       "\n",
       "        var svg = d3.select(o.divid).append(\"svg\")\n",
       "            .attr(\"width\", o.width)\n",
       "            .attr(\"height\", o.height);\n",
       "\n",
       "        var force = d3.layout.force()\n",
       "            .charge(-120)\n",
       "            .linkDistance(30)\n",
       "            .size([o.width, o.height])\n",
       "            .nodes(o.data.nodes)\n",
       "            .links(o.data.links)\n",
       "            .start();\n",
       "\n",
       "        var link = svg.selectAll(\".link\")\n",
       "                .data(o.data.links)\n",
       "            .enter().append(\"line\")\n",
       "                .attr(\"class\", \"link\")\n",
       "                .style(\"stroke-width\", function(d) { return Math.sqrt(d.value); });\n",
       "\n",
       "        var node = svg.selectAll(\".node\")\n",
       "                .data(o.data.nodes)\n",
       "            .enter().append(\"circle\")\n",
       "                .attr(\"class\", \"node\")\n",
       "                .attr(\"r\", 5)\n",
       "                .style(\"fill\", function(d) { return color(d.group); })\n",
       "                .call(force.drag);\n",
       "\n",
       "        node.append(\"title\")\n",
       "            .text(function(d) { return d.name; });\n",
       "\n",
       "        force.on(\"tick\", function() {\n",
       "            link.attr(\"x1\", function(d) { return d.source.x; })\n",
       "                .attr(\"y1\", function(d) { return d.source.y; })\n",
       "                .attr(\"x2\", function(d) { return d.target.x; })\n",
       "                .attr(\"y2\", function(d) { return d.target.y; });\n",
       "\n",
       "            node.attr(\"cx\", function(d) { return d.x; })\n",
       "                .attr(\"cy\", function(d) { return d.y; });\n",
       "        });\n",
       "    }\n",
       "}();\n",
       "</script>\n",
       "<div id=\"x9ca0ad319b1341ce8178a6a328a7e515\">\n",
       "</div>"
      ],
      "text/plain": [
       "<IPython.core.display.HTML object>"
      ]
     },
     "execution_count": 4,
     "metadata": {},
     "output_type": "execute_result"
    }
   ],
   "source": [
    "G = nx.Graph()\n",
    "node_index_map = {}\n",
    "for i, node in enumerate(lesmis['nodes']):\n",
    "    node_index_map[i] = node['name']\n",
    "    G.add_node(node['name'], group=node['group'])\n",
    "for edge in lesmis['links']:\n",
    "    G.add_edge(node_index_map[edge['source']], node_index_map[edge['target']], weight=edge['value'])\n",
    "    \n",
    "d3graph.force(G)"
   ]
  },
  {
   "cell_type": "code",
   "execution_count": null,
   "metadata": {
    "collapsed": true
   },
   "outputs": [],
   "source": []
  }
 ],
 "metadata": {
  "kernelspec": {
   "display_name": "Python 3",
   "language": "python",
   "name": "python3"
  },
  "language_info": {
   "codemirror_mode": {
    "name": "ipython",
    "version": 3
   },
   "file_extension": ".py",
   "mimetype": "text/x-python",
   "name": "python",
   "nbconvert_exporter": "python",
   "pygments_lexer": "ipython3",
   "version": "3.4.2"
  }
 },
 "nbformat": 4,
 "nbformat_minor": 0
}
