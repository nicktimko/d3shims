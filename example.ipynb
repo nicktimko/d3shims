{
 "cells": [
  {
   "cell_type": "code",
   "execution_count": 1,
   "metadata": {
    "collapsed": false
   },
   "outputs": [],
   "source": [
    "import networkx as nx\n",
    "import d3shims"
   ]
  },
  {
   "cell_type": "code",
   "execution_count": 2,
   "metadata": {
    "collapsed": false
   },
   "outputs": [
    {
     "data": {
      "text/html": [
       "<style>\n",
       "    .node {\n",
       "      stroke: #fff;\n",
       "      stroke-width: 1.5px;\n",
       "    }\n",
       "\n",
       "    .link {\n",
       "      stroke: #999;\n",
       "      stroke-opacity: .6;\n",
       "    }\n",
       "</style>\n",
       "<script>\n",
       "+function() {\n",
       "    var options = {\n",
       "        'divid': '#xebe84b89795d4970947cb12a78a3dbb1',\n",
       "        'data': {\"nodes\": [{\"name\": \"0\", \"group\": 0}, {\"name\": \"1\", \"group\": 0}, {\"name\": \"2\", \"group\": 0}, {\"name\": \"3\", \"group\": 0}, {\"name\": \"4\", \"group\": 0}, {\"name\": \"5\", \"group\": 0}, {\"name\": \"6\", \"group\": 0}, {\"name\": \"7\", \"group\": 0}, {\"name\": \"8\", \"group\": 0}, {\"name\": \"9\", \"group\": 0}], \"links\": [{\"source\": 0, \"target\": 1, \"value\": 1}, {\"source\": 0, \"target\": 2, \"value\": 1}, {\"source\": 0, \"target\": 3, \"value\": 1}, {\"source\": 0, \"target\": 4, \"value\": 1}, {\"source\": 4, \"target\": 9, \"value\": 1}, {\"source\": 4, \"target\": 5, \"value\": 1}, {\"source\": 5, \"target\": 6, \"value\": 1}, {\"source\": 6, \"target\": 7, \"value\": 1}, {\"source\": 7, \"target\": 8, \"value\": 1}, {\"source\": 8, \"target\": 9, \"value\": 1}]},\n",
       "        'width': 200,\n",
       "        'height': 200,\n",
       "    }\n",
       "\n",
       "    if (window.d3 === undefined) {\n",
       "        console.log('Loading D3 from CDN');\n",
       "        $.getScript('https://cdnjs.cloudflare.com/ajax/libs/d3/3.5.7/d3.js')\n",
       "            .done(function() {\n",
       "                plot_force(options);\n",
       "            });\n",
       "    } else {\n",
       "        plot_force(options);\n",
       "    }\n",
       "\n",
       "    function plot_force(o) {\n",
       "        var color = d3.scale.category20();\n",
       "\n",
       "        var svg = d3.select(o.divid).append(\"svg\")\n",
       "            .attr(\"width\", o.width)\n",
       "            .attr(\"height\", o.height);\n",
       "\n",
       "        var force = d3.layout.force()\n",
       "            .charge(-120)\n",
       "            .linkDistance(30)\n",
       "            .size([o.width, o.height])\n",
       "            .nodes(o.data.nodes)\n",
       "            .links(o.data.links)\n",
       "            .start();\n",
       "\n",
       "        var link = svg.selectAll(\".link\")\n",
       "                .data(o.data.links)\n",
       "            .enter().append(\"line\")\n",
       "                .attr(\"class\", \"link\")\n",
       "                .style(\"stroke-width\", function(d) { return Math.sqrt(d.value); });\n",
       "\n",
       "        var node = svg.selectAll(\".node\")\n",
       "                .data(o.data.nodes)\n",
       "            .enter().append(\"circle\")\n",
       "                .attr(\"class\", \"node\")\n",
       "                .attr(\"r\", 5)\n",
       "                .style(\"fill\", function(d) { return color(d.group); })\n",
       "                .call(force.drag);\n",
       "\n",
       "        node.append(\"title\")\n",
       "            .text(function(d) { return d.name; });\n",
       "\n",
       "        force.on(\"tick\", function() {\n",
       "            link.attr(\"x1\", function(d) { return d.source.x; })\n",
       "                .attr(\"y1\", function(d) { return d.source.y; })\n",
       "                .attr(\"x2\", function(d) { return d.target.x; })\n",
       "                .attr(\"y2\", function(d) { return d.target.y; });\n",
       "\n",
       "            node.attr(\"cx\", function(d) { return d.x; })\n",
       "                .attr(\"cy\", function(d) { return d.y; });\n",
       "        });\n",
       "    }\n",
       "}();\n",
       "</script>\n",
       "<div id=\"xebe84b89795d4970947cb12a78a3dbb1\">\n",
       "</div>"
      ],
      "text/plain": [
       "<IPython.core.display.HTML object>"
      ]
     },
     "execution_count": 2,
     "metadata": {},
     "output_type": "execute_result"
    }
   ],
   "source": [
    "G = nx.Graph()\n",
    "G.add_star(range(5))\n",
    "G.add_cycle(range(4, 10))\n",
    "\n",
    "d3shims.nx_force(G, size=(200, 200))"
   ]
  },
  {
   "cell_type": "code",
   "execution_count": 3,
   "metadata": {
    "collapsed": false
   },
   "outputs": [],
   "source": [
    "import json\n",
    "with open('lesmis.json', 'r') as f:\n",
    "    lesmis = json.load(f)"
   ]
  },
  {
   "cell_type": "code",
   "execution_count": 4,
   "metadata": {
    "collapsed": false
   },
   "outputs": [
    {
     "data": {
      "text/html": [
       "<style>\n",
       "    .node {\n",
       "      stroke: #fff;\n",
       "      stroke-width: 1.5px;\n",
       "    }\n",
       "\n",
       "    .link {\n",
       "      stroke: #999;\n",
       "      stroke-opacity: .6;\n",
       "    }\n",
       "</style>\n",
       "<script>\n",
       "+function() {\n",
       "    var options = {\n",
       "        'divid': '#xb0bc1c607e9e4f0a8d62d304e150d65b',\n",
       "        'data': {\"nodes\": [{\"name\": \"Bossuet\", \"group\": 8}, {\"name\": \"Bahorel\", \"group\": 8}, {\"name\": \"Thenardier\", \"group\": 4}, {\"name\": \"Mlle.Vaubois\", \"group\": 5}, {\"name\": \"Feuilly\", \"group\": 8}, {\"name\": \"Eponine\", \"group\": 4}, {\"name\": \"Gillenormand\", \"group\": 5}, {\"name\": \"Judge\", \"group\": 2}, {\"name\": \"Brevet\", \"group\": 2}, {\"name\": \"Fantine\", \"group\": 3}, {\"name\": \"Lt.Gillenormand\", \"group\": 5}, {\"name\": \"Champtercier\", \"group\": 1}, {\"name\": \"Marguerite\", \"group\": 3}, {\"name\": \"Mlle.Gillenormand\", \"group\": 5}, {\"name\": \"Labarre\", \"group\": 2}, {\"name\": \"MotherPlutarch\", \"group\": 9}, {\"name\": \"Brujon\", \"group\": 4}, {\"name\": \"Cravatte\", \"group\": 1}, {\"name\": \"Mme.Burgon\", \"group\": 7}, {\"name\": \"Tholomyes\", \"group\": 3}, {\"name\": \"Chenildieu\", \"group\": 2}, {\"name\": \"Bamatabois\", \"group\": 2}, {\"name\": \"Child1\", \"group\": 10}, {\"name\": \"Pontmercy\", \"group\": 4}, {\"name\": \"Mme.Pontmercy\", \"group\": 5}, {\"name\": \"Boulatruelle\", \"group\": 6}, {\"name\": \"Perpetue\", \"group\": 3}, {\"name\": \"Mme.deR\", \"group\": 2}, {\"name\": \"Mabeuf\", \"group\": 8}, {\"name\": \"Child2\", \"group\": 10}, {\"name\": \"Mme.Magloire\", \"group\": 1}, {\"name\": \"Valjean\", \"group\": 2}, {\"name\": \"Gervais\", \"group\": 2}, {\"name\": \"Mme.Thenardier\", \"group\": 4}, {\"name\": \"Javert\", \"group\": 4}, {\"name\": \"Mme.Hucheloup\", \"group\": 8}, {\"name\": \"Cosette\", \"group\": 5}, {\"name\": \"Toussaint\", \"group\": 5}, {\"name\": \"Champmathieu\", \"group\": 2}, {\"name\": \"Joly\", \"group\": 8}, {\"name\": \"Marius\", \"group\": 8}, {\"name\": \"Listolier\", \"group\": 3}, {\"name\": \"Combeferre\", \"group\": 8}, {\"name\": \"Gueulemer\", \"group\": 4}, {\"name\": \"Dahlia\", \"group\": 3}, {\"name\": \"Scaufflaire\", \"group\": 2}, {\"name\": \"Fameuil\", \"group\": 3}, {\"name\": \"Mlle.Baptistine\", \"group\": 1}, {\"name\": \"Gavroche\", \"group\": 8}, {\"name\": \"Grantaire\", \"group\": 8}, {\"name\": \"Montparnasse\", \"group\": 4}, {\"name\": \"Claquesous\", \"group\": 4}, {\"name\": \"MotherInnocent\", \"group\": 0}, {\"name\": \"Magnon\", \"group\": 5}, {\"name\": \"Jondrette\", \"group\": 7}, {\"name\": \"Myriel\", \"group\": 1}, {\"name\": \"Count\", \"group\": 1}, {\"name\": \"Napoleon\", \"group\": 1}, {\"name\": \"Courfeyrac\", \"group\": 8}, {\"name\": \"Prouvaire\", \"group\": 8}, {\"name\": \"Zephine\", \"group\": 3}, {\"name\": \"CountessdeLo\", \"group\": 1}, {\"name\": \"Cochepaille\", \"group\": 2}, {\"name\": \"Anzelma\", \"group\": 4}, {\"name\": \"Woman1\", \"group\": 2}, {\"name\": \"Blacheville\", \"group\": 3}, {\"name\": \"Enjolras\", \"group\": 8}, {\"name\": \"Geborand\", \"group\": 1}, {\"name\": \"BaronessT\", \"group\": 5}, {\"name\": \"Gribier\", \"group\": 0}, {\"name\": \"Woman2\", \"group\": 5}, {\"name\": \"Babet\", \"group\": 4}, {\"name\": \"Isabeau\", \"group\": 2}, {\"name\": \"Fauchelevent\", \"group\": 0}, {\"name\": \"OldMan\", \"group\": 1}, {\"name\": \"Favourite\", \"group\": 3}, {\"name\": \"Simplice\", \"group\": 2}], \"links\": [{\"source\": 0, \"target\": 59, \"value\": 2}, {\"source\": 0, \"target\": 42, \"value\": 9}, {\"source\": 0, \"target\": 35, \"value\": 1}, {\"source\": 0, \"target\": 40, \"value\": 5}, {\"source\": 0, \"target\": 28, \"value\": 1}, {\"source\": 0, \"target\": 66, \"value\": 10}, {\"source\": 0, \"target\": 58, \"value\": 12}, {\"source\": 0, \"target\": 31, \"value\": 1}, {\"source\": 0, \"target\": 4, \"value\": 6}, {\"source\": 0, \"target\": 49, \"value\": 3}, {\"source\": 0, \"target\": 1, \"value\": 4}, {\"source\": 0, \"target\": 48, \"value\": 5}, {\"source\": 0, \"target\": 39, \"value\": 7}, {\"source\": 1, \"target\": 59, \"value\": 2}, {\"source\": 1, \"target\": 42, \"value\": 5}, {\"source\": 1, \"target\": 40, \"value\": 1}, {\"source\": 1, \"target\": 4, \"value\": 3}, {\"source\": 1, \"target\": 66, \"value\": 4}, {\"source\": 1, \"target\": 58, \"value\": 6}, {\"source\": 1, \"target\": 28, \"value\": 2}, {\"source\": 1, \"target\": 49, \"value\": 1}, {\"source\": 1, \"target\": 35, \"value\": 1}, {\"source\": 1, \"target\": 48, \"value\": 5}, {\"source\": 1, \"target\": 39, \"value\": 5}, {\"source\": 2, \"target\": 9, \"value\": 1}, {\"source\": 2, \"target\": 23, \"value\": 1}, {\"source\": 2, \"target\": 5, \"value\": 3}, {\"source\": 2, \"target\": 25, \"value\": 1}, {\"source\": 2, \"target\": 48, \"value\": 1}, {\"source\": 2, \"target\": 63, \"value\": 2}, {\"source\": 2, \"target\": 50, \"value\": 1}, {\"source\": 2, \"target\": 16, \"value\": 3}, {\"source\": 2, \"target\": 31, \"value\": 12}, {\"source\": 2, \"target\": 51, \"value\": 4}, {\"source\": 2, \"target\": 33, \"value\": 13}, {\"source\": 2, \"target\": 71, \"value\": 6}, {\"source\": 2, \"target\": 36, \"value\": 1}, {\"source\": 2, \"target\": 40, \"value\": 2}, {\"source\": 2, \"target\": 34, \"value\": 5}, {\"source\": 2, \"target\": 43, \"value\": 5}, {\"source\": 3, \"target\": 13, \"value\": 1}, {\"source\": 4, \"target\": 58, \"value\": 6}, {\"source\": 4, \"target\": 28, \"value\": 1}, {\"source\": 4, \"target\": 42, \"value\": 5}, {\"source\": 4, \"target\": 49, \"value\": 1}, {\"source\": 4, \"target\": 40, \"value\": 1}, {\"source\": 4, \"target\": 48, \"value\": 2}, {\"source\": 4, \"target\": 59, \"value\": 2}, {\"source\": 4, \"target\": 66, \"value\": 6}, {\"source\": 4, \"target\": 39, \"value\": 5}, {\"source\": 5, \"target\": 58, \"value\": 1}, {\"source\": 5, \"target\": 28, \"value\": 1}, {\"source\": 5, \"target\": 51, \"value\": 1}, {\"source\": 5, \"target\": 43, \"value\": 1}, {\"source\": 5, \"target\": 16, \"value\": 1}, {\"source\": 5, \"target\": 63, \"value\": 2}, {\"source\": 5, \"target\": 33, \"value\": 2}, {\"source\": 5, \"target\": 40, \"value\": 5}, {\"source\": 5, \"target\": 50, \"value\": 1}, {\"source\": 5, \"target\": 71, \"value\": 1}, {\"source\": 6, \"target\": 31, \"value\": 2}, {\"source\": 6, \"target\": 13, \"value\": 9}, {\"source\": 6, \"target\": 53, \"value\": 1}, {\"source\": 6, \"target\": 36, \"value\": 3}, {\"source\": 6, \"target\": 68, \"value\": 1}, {\"source\": 6, \"target\": 40, \"value\": 12}, {\"source\": 6, \"target\": 10, \"value\": 1}, {\"source\": 7, \"target\": 31, \"value\": 3}, {\"source\": 7, \"target\": 62, \"value\": 2}, {\"source\": 7, \"target\": 38, \"value\": 3}, {\"source\": 7, \"target\": 8, \"value\": 2}, {\"source\": 7, \"target\": 20, \"value\": 2}, {\"source\": 7, \"target\": 21, \"value\": 2}, {\"source\": 8, \"target\": 31, \"value\": 2}, {\"source\": 8, \"target\": 62, \"value\": 2}, {\"source\": 8, \"target\": 38, \"value\": 2}, {\"source\": 8, \"target\": 20, \"value\": 2}, {\"source\": 8, \"target\": 21, \"value\": 1}, {\"source\": 9, \"target\": 60, \"value\": 4}, {\"source\": 9, \"target\": 44, \"value\": 4}, {\"source\": 9, \"target\": 46, \"value\": 3}, {\"source\": 9, \"target\": 76, \"value\": 2}, {\"source\": 9, \"target\": 65, \"value\": 3}, {\"source\": 9, \"target\": 75, \"value\": 4}, {\"source\": 9, \"target\": 31, \"value\": 9}, {\"source\": 9, \"target\": 12, \"value\": 2}, {\"source\": 9, \"target\": 26, \"value\": 1}, {\"source\": 9, \"target\": 33, \"value\": 2}, {\"source\": 9, \"target\": 21, \"value\": 1}, {\"source\": 9, \"target\": 19, \"value\": 3}, {\"source\": 9, \"target\": 34, \"value\": 5}, {\"source\": 9, \"target\": 41, \"value\": 3}, {\"source\": 10, \"target\": 40, \"value\": 1}, {\"source\": 10, \"target\": 13, \"value\": 2}, {\"source\": 10, \"target\": 36, \"value\": 1}, {\"source\": 11, \"target\": 55, \"value\": 1}, {\"source\": 12, \"target\": 31, \"value\": 1}, {\"source\": 13, \"target\": 31, \"value\": 2}, {\"source\": 13, \"target\": 36, \"value\": 2}, {\"source\": 13, \"target\": 40, \"value\": 6}, {\"source\": 13, \"target\": 24, \"value\": 1}, {\"source\": 14, \"target\": 31, \"value\": 1}, {\"source\": 15, \"target\": 28, \"value\": 3}, {\"source\": 16, \"target\": 51, \"value\": 1}, {\"source\": 16, \"target\": 43, \"value\": 3}, {\"source\": 16, \"target\": 48, \"value\": 1}, {\"source\": 16, \"target\": 50, \"value\": 1}, {\"source\": 16, \"target\": 71, \"value\": 3}, {\"source\": 17, \"target\": 55, \"value\": 1}, {\"source\": 18, \"target\": 54, \"value\": 1}, {\"source\": 18, \"target\": 48, \"value\": 2}, {\"source\": 19, \"target\": 60, \"value\": 3}, {\"source\": 19, \"target\": 44, \"value\": 3}, {\"source\": 19, \"target\": 36, \"value\": 1}, {\"source\": 19, \"target\": 46, \"value\": 4}, {\"source\": 19, \"target\": 65, \"value\": 4}, {\"source\": 19, \"target\": 40, \"value\": 1}, {\"source\": 19, \"target\": 75, \"value\": 3}, {\"source\": 19, \"target\": 41, \"value\": 4}, {\"source\": 20, \"target\": 31, \"value\": 2}, {\"source\": 20, \"target\": 62, \"value\": 2}, {\"source\": 20, \"target\": 38, \"value\": 2}, {\"source\": 20, \"target\": 21, \"value\": 1}, {\"source\": 21, \"target\": 31, \"value\": 2}, {\"source\": 21, \"target\": 62, \"value\": 1}, {\"source\": 21, \"target\": 38, \"value\": 2}, {\"source\": 21, \"target\": 34, \"value\": 1}, {\"source\": 22, \"target\": 48, \"value\": 2}, {\"source\": 22, \"target\": 29, \"value\": 3}, {\"source\": 23, \"target\": 24, \"value\": 1}, {\"source\": 23, \"target\": 40, \"value\": 1}, {\"source\": 26, \"target\": 76, \"value\": 2}, {\"source\": 27, \"target\": 31, \"value\": 1}, {\"source\": 28, \"target\": 58, \"value\": 2}, {\"source\": 28, \"target\": 42, \"value\": 2}, {\"source\": 28, \"target\": 40, \"value\": 1}, {\"source\": 28, \"target\": 48, \"value\": 1}, {\"source\": 28, \"target\": 66, \"value\": 1}, {\"source\": 28, \"target\": 39, \"value\": 1}, {\"source\": 29, \"target\": 48, \"value\": 2}, {\"source\": 30, \"target\": 47, \"value\": 6}, {\"source\": 30, \"target\": 55, \"value\": 10}, {\"source\": 30, \"target\": 31, \"value\": 3}, {\"source\": 31, \"target\": 43, \"value\": 1}, {\"source\": 31, \"target\": 47, \"value\": 3}, {\"source\": 31, \"target\": 45, \"value\": 1}, {\"source\": 31, \"target\": 76, \"value\": 3}, {\"source\": 31, \"target\": 36, \"value\": 31}, {\"source\": 31, \"target\": 70, \"value\": 3}, {\"source\": 31, \"target\": 72, \"value\": 1}, {\"source\": 31, \"target\": 37, \"value\": 1}, {\"source\": 31, \"target\": 52, \"value\": 1}, {\"source\": 31, \"target\": 40, \"value\": 19}, {\"source\": 31, \"target\": 50, \"value\": 1}, {\"source\": 31, \"target\": 34, \"value\": 17}, {\"source\": 31, \"target\": 51, \"value\": 1}, {\"source\": 31, \"target\": 55, \"value\": 5}, {\"source\": 31, \"target\": 62, \"value\": 2}, {\"source\": 31, \"target\": 64, \"value\": 2}, {\"source\": 31, \"target\": 66, \"value\": 4}, {\"source\": 31, \"target\": 32, \"value\": 1}, {\"source\": 31, \"target\": 33, \"value\": 7}, {\"source\": 31, \"target\": 73, \"value\": 8}, {\"source\": 31, \"target\": 38, \"value\": 3}, {\"source\": 31, \"target\": 48, \"value\": 1}, {\"source\": 31, \"target\": 71, \"value\": 1}, {\"source\": 33, \"target\": 63, \"value\": 1}, {\"source\": 33, \"target\": 43, \"value\": 1}, {\"source\": 33, \"target\": 53, \"value\": 1}, {\"source\": 33, \"target\": 36, \"value\": 4}, {\"source\": 33, \"target\": 51, \"value\": 1}, {\"source\": 33, \"target\": 71, \"value\": 1}, {\"source\": 33, \"target\": 34, \"value\": 1}, {\"source\": 34, \"target\": 51, \"value\": 1}, {\"source\": 34, \"target\": 43, \"value\": 1}, {\"source\": 34, \"target\": 64, \"value\": 1}, {\"source\": 34, \"target\": 48, \"value\": 1}, {\"source\": 34, \"target\": 66, \"value\": 6}, {\"source\": 34, \"target\": 37, \"value\": 1}, {\"source\": 34, \"target\": 71, \"value\": 2}, {\"source\": 34, \"target\": 36, \"value\": 1}, {\"source\": 34, \"target\": 73, \"value\": 1}, {\"source\": 34, \"target\": 70, \"value\": 1}, {\"source\": 34, \"target\": 50, \"value\": 1}, {\"source\": 34, \"target\": 76, \"value\": 1}, {\"source\": 35, \"target\": 58, \"value\": 1}, {\"source\": 35, \"target\": 49, \"value\": 1}, {\"source\": 35, \"target\": 66, \"value\": 1}, {\"source\": 35, \"target\": 48, \"value\": 1}, {\"source\": 35, \"target\": 39, \"value\": 1}, {\"source\": 36, \"target\": 37, \"value\": 2}, {\"source\": 36, \"target\": 40, \"value\": 21}, {\"source\": 36, \"target\": 70, \"value\": 1}, {\"source\": 38, \"target\": 62, \"value\": 2}, {\"source\": 39, \"target\": 59, \"value\": 2}, {\"source\": 39, \"target\": 42, \"value\": 5}, {\"source\": 39, \"target\": 40, \"value\": 2}, {\"source\": 39, \"target\": 66, \"value\": 5}, {\"source\": 39, \"target\": 58, \"value\": 5}, {\"source\": 39, \"target\": 49, \"value\": 2}, {\"source\": 39, \"target\": 48, \"value\": 3}, {\"source\": 40, \"target\": 42, \"value\": 5}, {\"source\": 40, \"target\": 68, \"value\": 1}, {\"source\": 40, \"target\": 48, \"value\": 4}, {\"source\": 40, \"target\": 66, \"value\": 7}, {\"source\": 40, \"target\": 58, \"value\": 9}, {\"source\": 41, \"target\": 60, \"value\": 3}, {\"source\": 41, \"target\": 44, \"value\": 3}, {\"source\": 41, \"target\": 46, \"value\": 4}, {\"source\": 41, \"target\": 65, \"value\": 4}, {\"source\": 41, \"target\": 75, \"value\": 3}, {\"source\": 42, \"target\": 58, \"value\": 13}, {\"source\": 42, \"target\": 59, \"value\": 2}, {\"source\": 42, \"target\": 48, \"value\": 6}, {\"source\": 42, \"target\": 49, \"value\": 1}, {\"source\": 42, \"target\": 66, \"value\": 15}, {\"source\": 43, \"target\": 51, \"value\": 4}, {\"source\": 43, \"target\": 71, \"value\": 6}, {\"source\": 43, \"target\": 48, \"value\": 1}, {\"source\": 43, \"target\": 50, \"value\": 2}, {\"source\": 44, \"target\": 60, \"value\": 4}, {\"source\": 44, \"target\": 46, \"value\": 3}, {\"source\": 44, \"target\": 65, \"value\": 3}, {\"source\": 44, \"target\": 75, \"value\": 5}, {\"source\": 46, \"target\": 60, \"value\": 3}, {\"source\": 46, \"target\": 65, \"value\": 4}, {\"source\": 46, \"target\": 75, \"value\": 3}, {\"source\": 47, \"target\": 55, \"value\": 8}, {\"source\": 48, \"target\": 58, \"value\": 7}, {\"source\": 48, \"target\": 59, \"value\": 1}, {\"source\": 48, \"target\": 66, \"value\": 7}, {\"source\": 48, \"target\": 50, \"value\": 1}, {\"source\": 48, \"target\": 49, \"value\": 1}, {\"source\": 48, \"target\": 71, \"value\": 1}, {\"source\": 49, \"target\": 58, \"value\": 2}, {\"source\": 49, \"target\": 59, \"value\": 1}, {\"source\": 49, \"target\": 66, \"value\": 3}, {\"source\": 50, \"target\": 51, \"value\": 2}, {\"source\": 50, \"target\": 71, \"value\": 2}, {\"source\": 51, \"target\": 66, \"value\": 1}, {\"source\": 51, \"target\": 71, \"value\": 4}, {\"source\": 52, \"target\": 73, \"value\": 3}, {\"source\": 55, \"target\": 57, \"value\": 1}, {\"source\": 55, \"target\": 61, \"value\": 1}, {\"source\": 55, \"target\": 74, \"value\": 1}, {\"source\": 55, \"target\": 56, \"value\": 2}, {\"source\": 55, \"target\": 67, \"value\": 1}, {\"source\": 58, \"target\": 59, \"value\": 3}, {\"source\": 58, \"target\": 66, \"value\": 17}, {\"source\": 59, \"target\": 66, \"value\": 4}, {\"source\": 60, \"target\": 65, \"value\": 3}, {\"source\": 60, \"target\": 75, \"value\": 4}, {\"source\": 65, \"target\": 75, \"value\": 4}, {\"source\": 69, \"target\": 73, \"value\": 2}]},\n",
       "        'width': 600,\n",
       "        'height': 400,\n",
       "    }\n",
       "\n",
       "    if (window.d3 === undefined) {\n",
       "        console.log('Loading D3 from CDN');\n",
       "        $.getScript('https://cdnjs.cloudflare.com/ajax/libs/d3/3.5.7/d3.js')\n",
       "            .done(function() {\n",
       "                plot_force(options);\n",
       "            });\n",
       "    } else {\n",
       "        plot_force(options);\n",
       "    }\n",
       "\n",
       "    function plot_force(o) {\n",
       "        var color = d3.scale.category20();\n",
       "\n",
       "        var svg = d3.select(o.divid).append(\"svg\")\n",
       "            .attr(\"width\", o.width)\n",
       "            .attr(\"height\", o.height);\n",
       "\n",
       "        var force = d3.layout.force()\n",
       "            .charge(-120)\n",
       "            .linkDistance(30)\n",
       "            .size([o.width, o.height])\n",
       "            .nodes(o.data.nodes)\n",
       "            .links(o.data.links)\n",
       "            .start();\n",
       "\n",
       "        var link = svg.selectAll(\".link\")\n",
       "                .data(o.data.links)\n",
       "            .enter().append(\"line\")\n",
       "                .attr(\"class\", \"link\")\n",
       "                .style(\"stroke-width\", function(d) { return Math.sqrt(d.value); });\n",
       "\n",
       "        var node = svg.selectAll(\".node\")\n",
       "                .data(o.data.nodes)\n",
       "            .enter().append(\"circle\")\n",
       "                .attr(\"class\", \"node\")\n",
       "                .attr(\"r\", 5)\n",
       "                .style(\"fill\", function(d) { return color(d.group); })\n",
       "                .call(force.drag);\n",
       "\n",
       "        node.append(\"title\")\n",
       "            .text(function(d) { return d.name; });\n",
       "\n",
       "        force.on(\"tick\", function() {\n",
       "            link.attr(\"x1\", function(d) { return d.source.x; })\n",
       "                .attr(\"y1\", function(d) { return d.source.y; })\n",
       "                .attr(\"x2\", function(d) { return d.target.x; })\n",
       "                .attr(\"y2\", function(d) { return d.target.y; });\n",
       "\n",
       "            node.attr(\"cx\", function(d) { return d.x; })\n",
       "                .attr(\"cy\", function(d) { return d.y; });\n",
       "        });\n",
       "    }\n",
       "}();\n",
       "</script>\n",
       "<div id=\"xb0bc1c607e9e4f0a8d62d304e150d65b\">\n",
       "</div>"
      ],
      "text/plain": [
       "<IPython.core.display.HTML object>"
      ]
     },
     "execution_count": 4,
     "metadata": {},
     "output_type": "execute_result"
    }
   ],
   "source": [
    "G = nx.Graph()\n",
    "node_index_map = {}\n",
    "for i, node in enumerate(lesmis['nodes']):\n",
    "    node_index_map[i] = node['name']\n",
    "    G.add_node(node['name'], group=node['group'])\n",
    "for edge in lesmis['links']:\n",
    "    G.add_edge(node_index_map[edge['source']], node_index_map[edge['target']], weight=edge['value'])\n",
    "    \n",
    "d3shims.nx_force(G)"
   ]
  }
 ],
 "metadata": {
  "kernelspec": {
   "display_name": "Python 3",
   "language": "python",
   "name": "python3"
  },
  "language_info": {
   "codemirror_mode": {
    "name": "ipython",
    "version": 3
   },
   "file_extension": ".py",
   "mimetype": "text/x-python",
   "name": "python",
   "nbconvert_exporter": "python",
   "pygments_lexer": "ipython3",
   "version": "3.4.2"
  }
 },
 "nbformat": 4,
 "nbformat_minor": 0
}
