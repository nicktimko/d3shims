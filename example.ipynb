{
 "cells": [
  {
   "cell_type": "code",
   "execution_count": 1,
   "metadata": {
    "collapsed": false
   },
   "outputs": [],
   "source": [
    "import networkx as nx\n",
    "import d3shims"
   ]
  },
  {
   "cell_type": "code",
   "execution_count": 2,
   "metadata": {
    "collapsed": false
   },
   "outputs": [
    {
     "data": {
      "text/html": [
       "<style>\n",
       "    .node {\n",
       "      stroke: #fff;\n",
       "      stroke-width: 1.5px;\n",
       "    }\n",
       "\n",
       "    .link {\n",
       "      stroke: #999;\n",
       "      stroke-opacity: .6;\n",
       "    }\n",
       "</style>\n",
       "<script>\n",
       "+function() {\n",
       "    var options = {\n",
       "        'divid': '#xac07cc6cad824decb5addc2ca7906832',\n",
       "        'data': {\"nodes\": [{\"group\": 0, \"name\": \"0\"}, {\"group\": 0, \"name\": \"1\"}, {\"group\": 0, \"name\": \"2\"}, {\"group\": 0, \"name\": \"3\"}, {\"group\": 0, \"name\": \"4\"}, {\"group\": 0, \"name\": \"5\"}, {\"group\": 0, \"name\": \"6\"}, {\"group\": 0, \"name\": \"7\"}, {\"group\": 0, \"name\": \"8\"}, {\"group\": 0, \"name\": \"9\"}], \"links\": [{\"target\": 1, \"source\": 0, \"value\": 1}, {\"target\": 2, \"source\": 0, \"value\": 1}, {\"target\": 3, \"source\": 0, \"value\": 1}, {\"target\": 4, \"source\": 0, \"value\": 1}, {\"target\": 9, \"source\": 4, \"value\": 1}, {\"target\": 5, \"source\": 4, \"value\": 1}, {\"target\": 6, \"source\": 5, \"value\": 1}, {\"target\": 7, \"source\": 6, \"value\": 1}, {\"target\": 8, \"source\": 7, \"value\": 1}, {\"target\": 9, \"source\": 8, \"value\": 1}]},\n",
       "        'width': 200,\n",
       "        'height': 200,\n",
       "    }\n",
       "\n",
       "    if (window.d3 === undefined) {\n",
       "        console.log('Loading D3 from CDN');\n",
       "        $.getScript('https://cdnjs.cloudflare.com/ajax/libs/d3/3.5.7/d3.js')\n",
       "            .done(function() {\n",
       "                plot_force(options);\n",
       "            });\n",
       "    } else {\n",
       "        plot_force(options);\n",
       "    }\n",
       "\n",
       "    function plot_force(o) {\n",
       "        var color = d3.scale.category20();\n",
       "\n",
       "        var svg = d3.select(o.divid).append(\"svg\")\n",
       "            .attr(\"width\", o.width)\n",
       "            .attr(\"height\", o.height);\n",
       "\n",
       "        var force = d3.layout.force()\n",
       "            .charge(-120)\n",
       "            .linkDistance(30)\n",
       "            .size([o.width, o.height])\n",
       "            .nodes(o.data.nodes)\n",
       "            .links(o.data.links)\n",
       "            .start();\n",
       "\n",
       "        var link = svg.selectAll(\".link\")\n",
       "                .data(o.data.links)\n",
       "            .enter().append(\"line\")\n",
       "                .attr(\"class\", \"link\")\n",
       "                .style(\"stroke-width\", function(d) { return Math.sqrt(d.value); });\n",
       "\n",
       "        var node = svg.selectAll(\".node\")\n",
       "                .data(o.data.nodes)\n",
       "            .enter().append(\"circle\")\n",
       "                .attr(\"class\", \"node\")\n",
       "                .attr(\"r\", 5)\n",
       "                .style(\"fill\", function(d) { return color(d.group); })\n",
       "                .call(force.drag);\n",
       "\n",
       "        node.append(\"title\")\n",
       "            .text(function(d) { return d.name; });\n",
       "\n",
       "        force.on(\"tick\", function() {\n",
       "            link.attr(\"x1\", function(d) { return d.source.x; })\n",
       "                .attr(\"y1\", function(d) { return d.source.y; })\n",
       "                .attr(\"x2\", function(d) { return d.target.x; })\n",
       "                .attr(\"y2\", function(d) { return d.target.y; });\n",
       "\n",
       "            node.attr(\"cx\", function(d) { return d.x; })\n",
       "                .attr(\"cy\", function(d) { return d.y; });\n",
       "        });\n",
       "    }\n",
       "}();\n",
       "</script>\n",
       "<div id=\"xac07cc6cad824decb5addc2ca7906832\">\n",
       "</div>"
      ],
      "text/plain": [
       "<IPython.core.display.HTML object>"
      ]
     },
     "execution_count": 2,
     "metadata": {},
     "output_type": "execute_result"
    }
   ],
   "source": [
    "G = nx.Graph()\n",
    "G.add_star(range(5))\n",
    "G.add_cycle(range(4, 10))\n",
    "\n",
    "d3shims.nx_force(G, size=(200, 200))"
   ]
  },
  {
   "cell_type": "code",
   "execution_count": 3,
   "metadata": {
    "collapsed": false
   },
   "outputs": [],
   "source": [
    "import json\n",
    "with open('lesmis.json', 'r') as f:\n",
    "    lesmis = json.load(f)"
   ]
  },
  {
   "cell_type": "code",
   "execution_count": 4,
   "metadata": {
    "collapsed": false
   },
   "outputs": [
    {
     "data": {
      "text/html": [
       "<style>\n",
       "    .node {\n",
       "      stroke: #fff;\n",
       "      stroke-width: 1.5px;\n",
       "    }\n",
       "\n",
       "    .link {\n",
       "      stroke: #999;\n",
       "      stroke-opacity: .6;\n",
       "    }\n",
       "</style>\n",
       "<script>\n",
       "+function() {\n",
       "    var options = {\n",
       "        'divid': '#x62e1572623d14c19b8161b2d7e37ad5d',\n",
       "        'data': {\"nodes\": [{\"group\": 1, \"name\": \"Napoleon\"}, {\"group\": 6, \"name\": \"Boulatruelle\"}, {\"group\": 5, \"name\": \"Mlle.Vaubois\"}, {\"group\": 4, \"name\": \"Thenardier\"}, {\"group\": 10, \"name\": \"Child1\"}, {\"group\": 2, \"name\": \"Scaufflaire\"}, {\"group\": 5, \"name\": \"Cosette\"}, {\"group\": 4, \"name\": \"Brujon\"}, {\"group\": 1, \"name\": \"Cravatte\"}, {\"group\": 0, \"name\": \"Gribier\"}, {\"group\": 2, \"name\": \"Labarre\"}, {\"group\": 2, \"name\": \"Gervais\"}, {\"group\": 3, \"name\": \"Listolier\"}, {\"group\": 1, \"name\": \"Champtercier\"}, {\"group\": 2, \"name\": \"Isabeau\"}, {\"group\": 4, \"name\": \"Mme.Thenardier\"}, {\"group\": 2, \"name\": \"Champmathieu\"}, {\"group\": 0, \"name\": \"Fauchelevent\"}, {\"group\": 8, \"name\": \"Bahorel\"}, {\"group\": 8, \"name\": \"Prouvaire\"}, {\"group\": 5, \"name\": \"Toussaint\"}, {\"group\": 5, \"name\": \"Mme.Pontmercy\"}, {\"group\": 2, \"name\": \"Cochepaille\"}, {\"group\": 8, \"name\": \"Gavroche\"}, {\"group\": 3, \"name\": \"Marguerite\"}, {\"group\": 4, \"name\": \"Javert\"}, {\"group\": 1, \"name\": \"OldMan\"}, {\"group\": 2, \"name\": \"Woman1\"}, {\"group\": 3, \"name\": \"Perpetue\"}, {\"group\": 5, \"name\": \"Woman2\"}, {\"group\": 3, \"name\": \"Fameuil\"}, {\"group\": 4, \"name\": \"Eponine\"}, {\"group\": 3, \"name\": \"Fantine\"}, {\"group\": 2, \"name\": \"Mme.deR\"}, {\"group\": 1, \"name\": \"Mme.Magloire\"}, {\"group\": 8, \"name\": \"Mabeuf\"}, {\"group\": 4, \"name\": \"Babet\"}, {\"group\": 9, \"name\": \"MotherPlutarch\"}, {\"group\": 8, \"name\": \"Combeferre\"}, {\"group\": 8, \"name\": \"Feuilly\"}, {\"group\": 4, \"name\": \"Gueulemer\"}, {\"group\": 0, \"name\": \"MotherInnocent\"}, {\"group\": 8, \"name\": \"Courfeyrac\"}, {\"group\": 5, \"name\": \"BaronessT\"}, {\"group\": 4, \"name\": \"Montparnasse\"}, {\"group\": 3, \"name\": \"Blacheville\"}, {\"group\": 7, \"name\": \"Jondrette\"}, {\"group\": 4, \"name\": \"Anzelma\"}, {\"group\": 4, \"name\": \"Pontmercy\"}, {\"group\": 8, \"name\": \"Bossuet\"}, {\"group\": 3, \"name\": \"Dahlia\"}, {\"group\": 3, \"name\": \"Favourite\"}, {\"group\": 2, \"name\": \"Bamatabois\"}, {\"group\": 2, \"name\": \"Chenildieu\"}, {\"group\": 2, \"name\": \"Brevet\"}, {\"group\": 1, \"name\": \"CountessdeLo\"}, {\"group\": 8, \"name\": \"Joly\"}, {\"group\": 3, \"name\": \"Tholomyes\"}, {\"group\": 8, \"name\": \"Mme.Hucheloup\"}, {\"group\": 2, \"name\": \"Judge\"}, {\"group\": 2, \"name\": \"Simplice\"}, {\"group\": 5, \"name\": \"Mlle.Gillenormand\"}, {\"group\": 10, \"name\": \"Child2\"}, {\"group\": 8, \"name\": \"Marius\"}, {\"group\": 5, \"name\": \"Gillenormand\"}, {\"group\": 5, \"name\": \"Lt.Gillenormand\"}, {\"group\": 7, \"name\": \"Mme.Burgon\"}, {\"group\": 3, \"name\": \"Zephine\"}, {\"group\": 1, \"name\": \"Count\"}, {\"group\": 1, \"name\": \"Myriel\"}, {\"group\": 2, \"name\": \"Valjean\"}, {\"group\": 8, \"name\": \"Enjolras\"}, {\"group\": 4, \"name\": \"Claquesous\"}, {\"group\": 1, \"name\": \"Geborand\"}, {\"group\": 8, \"name\": \"Grantaire\"}, {\"group\": 5, \"name\": \"Magnon\"}, {\"group\": 1, \"name\": \"Mlle.Baptistine\"}], \"links\": [{\"target\": 69, \"source\": 0, \"value\": 1}, {\"target\": 3, \"source\": 1, \"value\": 1}, {\"target\": 61, \"source\": 2, \"value\": 1}, {\"target\": 32, \"source\": 3, \"value\": 1}, {\"target\": 31, \"source\": 3, \"value\": 3}, {\"target\": 47, \"source\": 3, \"value\": 2}, {\"target\": 40, \"source\": 3, \"value\": 5}, {\"target\": 63, \"source\": 3, \"value\": 2}, {\"target\": 6, \"source\": 3, \"value\": 1}, {\"target\": 44, \"source\": 3, \"value\": 1}, {\"target\": 36, \"source\": 3, \"value\": 6}, {\"target\": 70, \"source\": 3, \"value\": 12}, {\"target\": 48, \"source\": 3, \"value\": 1}, {\"target\": 15, \"source\": 3, \"value\": 13}, {\"target\": 23, \"source\": 3, \"value\": 1}, {\"target\": 25, \"source\": 3, \"value\": 5}, {\"target\": 7, \"source\": 3, \"value\": 3}, {\"target\": 72, \"source\": 3, \"value\": 4}, {\"target\": 62, \"source\": 4, \"value\": 3}, {\"target\": 23, \"source\": 4, \"value\": 2}, {\"target\": 70, \"source\": 5, \"value\": 1}, {\"target\": 20, \"source\": 6, \"value\": 2}, {\"target\": 57, \"source\": 6, \"value\": 1}, {\"target\": 70, \"source\": 6, \"value\": 31}, {\"target\": 63, \"source\": 6, \"value\": 21}, {\"target\": 61, \"source\": 6, \"value\": 2}, {\"target\": 29, \"source\": 6, \"value\": 1}, {\"target\": 15, \"source\": 6, \"value\": 4}, {\"target\": 64, \"source\": 6, \"value\": 3}, {\"target\": 25, \"source\": 6, \"value\": 1}, {\"target\": 65, \"source\": 6, \"value\": 1}, {\"target\": 36, \"source\": 7, \"value\": 3}, {\"target\": 31, \"source\": 7, \"value\": 1}, {\"target\": 40, \"source\": 7, \"value\": 3}, {\"target\": 23, \"source\": 7, \"value\": 1}, {\"target\": 44, \"source\": 7, \"value\": 1}, {\"target\": 72, \"source\": 7, \"value\": 1}, {\"target\": 69, \"source\": 8, \"value\": 1}, {\"target\": 17, \"source\": 9, \"value\": 2}, {\"target\": 70, \"source\": 10, \"value\": 1}, {\"target\": 70, \"source\": 11, \"value\": 1}, {\"target\": 45, \"source\": 12, \"value\": 4}, {\"target\": 57, \"source\": 12, \"value\": 4}, {\"target\": 30, \"source\": 12, \"value\": 4}, {\"target\": 50, \"source\": 12, \"value\": 3}, {\"target\": 51, \"source\": 12, \"value\": 3}, {\"target\": 32, \"source\": 12, \"value\": 3}, {\"target\": 67, \"source\": 12, \"value\": 3}, {\"target\": 69, \"source\": 13, \"value\": 1}, {\"target\": 70, \"source\": 14, \"value\": 1}, {\"target\": 31, \"source\": 15, \"value\": 2}, {\"target\": 70, \"source\": 15, \"value\": 7}, {\"target\": 36, \"source\": 15, \"value\": 1}, {\"target\": 75, \"source\": 15, \"value\": 1}, {\"target\": 72, \"source\": 15, \"value\": 1}, {\"target\": 40, \"source\": 15, \"value\": 1}, {\"target\": 32, \"source\": 15, \"value\": 2}, {\"target\": 25, \"source\": 15, \"value\": 1}, {\"target\": 47, \"source\": 15, \"value\": 1}, {\"target\": 70, \"source\": 16, \"value\": 3}, {\"target\": 59, \"source\": 16, \"value\": 3}, {\"target\": 22, \"source\": 16, \"value\": 2}, {\"target\": 52, \"source\": 16, \"value\": 2}, {\"target\": 53, \"source\": 16, \"value\": 2}, {\"target\": 54, \"source\": 16, \"value\": 2}, {\"target\": 41, \"source\": 17, \"value\": 3}, {\"target\": 70, \"source\": 17, \"value\": 8}, {\"target\": 25, \"source\": 17, \"value\": 1}, {\"target\": 58, \"source\": 18, \"value\": 1}, {\"target\": 38, \"source\": 18, \"value\": 5}, {\"target\": 39, \"source\": 18, \"value\": 3}, {\"target\": 63, \"source\": 18, \"value\": 1}, {\"target\": 42, \"source\": 18, \"value\": 6}, {\"target\": 56, \"source\": 18, \"value\": 5}, {\"target\": 35, \"source\": 18, \"value\": 2}, {\"target\": 49, \"source\": 18, \"value\": 4}, {\"target\": 71, \"source\": 18, \"value\": 4}, {\"target\": 23, \"source\": 18, \"value\": 5}, {\"target\": 74, \"source\": 18, \"value\": 1}, {\"target\": 19, \"source\": 18, \"value\": 2}, {\"target\": 56, \"source\": 19, \"value\": 2}, {\"target\": 38, \"source\": 19, \"value\": 2}, {\"target\": 39, \"source\": 19, \"value\": 2}, {\"target\": 49, \"source\": 19, \"value\": 2}, {\"target\": 71, \"source\": 19, \"value\": 4}, {\"target\": 23, \"source\": 19, \"value\": 1}, {\"target\": 42, \"source\": 19, \"value\": 3}, {\"target\": 74, \"source\": 19, \"value\": 1}, {\"target\": 70, \"source\": 20, \"value\": 1}, {\"target\": 25, \"source\": 20, \"value\": 1}, {\"target\": 61, \"source\": 21, \"value\": 1}, {\"target\": 48, \"source\": 21, \"value\": 1}, {\"target\": 70, \"source\": 22, \"value\": 2}, {\"target\": 59, \"source\": 22, \"value\": 2}, {\"target\": 52, \"source\": 22, \"value\": 1}, {\"target\": 53, \"source\": 22, \"value\": 2}, {\"target\": 54, \"source\": 22, \"value\": 2}, {\"target\": 36, \"source\": 23, \"value\": 1}, {\"target\": 38, \"source\": 23, \"value\": 6}, {\"target\": 39, \"source\": 23, \"value\": 2}, {\"target\": 40, \"source\": 23, \"value\": 1}, {\"target\": 44, \"source\": 23, \"value\": 1}, {\"target\": 42, \"source\": 23, \"value\": 7}, {\"target\": 62, \"source\": 23, \"value\": 2}, {\"target\": 35, \"source\": 23, \"value\": 1}, {\"target\": 74, \"source\": 23, \"value\": 1}, {\"target\": 56, \"source\": 23, \"value\": 3}, {\"target\": 58, \"source\": 23, \"value\": 1}, {\"target\": 25, \"source\": 23, \"value\": 1}, {\"target\": 63, \"source\": 23, \"value\": 4}, {\"target\": 66, \"source\": 23, \"value\": 2}, {\"target\": 70, \"source\": 23, \"value\": 1}, {\"target\": 49, \"source\": 23, \"value\": 5}, {\"target\": 71, \"source\": 23, \"value\": 7}, {\"target\": 32, \"source\": 24, \"value\": 2}, {\"target\": 70, \"source\": 24, \"value\": 1}, {\"target\": 32, \"source\": 25, \"value\": 5}, {\"target\": 60, \"source\": 25, \"value\": 1}, {\"target\": 40, \"source\": 25, \"value\": 1}, {\"target\": 44, \"source\": 25, \"value\": 1}, {\"target\": 27, \"source\": 25, \"value\": 1}, {\"target\": 36, \"source\": 25, \"value\": 2}, {\"target\": 70, \"source\": 25, \"value\": 17}, {\"target\": 71, \"source\": 25, \"value\": 6}, {\"target\": 72, \"source\": 25, \"value\": 1}, {\"target\": 29, \"source\": 25, \"value\": 1}, {\"target\": 52, \"source\": 25, \"value\": 1}, {\"target\": 69, \"source\": 26, \"value\": 1}, {\"target\": 70, \"source\": 27, \"value\": 2}, {\"target\": 32, \"source\": 28, \"value\": 1}, {\"target\": 60, \"source\": 28, \"value\": 2}, {\"target\": 70, \"source\": 29, \"value\": 3}, {\"target\": 45, \"source\": 30, \"value\": 4}, {\"target\": 57, \"source\": 30, \"value\": 4}, {\"target\": 50, \"source\": 30, \"value\": 3}, {\"target\": 51, \"source\": 30, \"value\": 3}, {\"target\": 32, \"source\": 30, \"value\": 3}, {\"target\": 67, \"source\": 30, \"value\": 3}, {\"target\": 63, \"source\": 31, \"value\": 5}, {\"target\": 36, \"source\": 31, \"value\": 1}, {\"target\": 35, \"source\": 31, \"value\": 1}, {\"target\": 72, \"source\": 31, \"value\": 1}, {\"target\": 44, \"source\": 31, \"value\": 1}, {\"target\": 40, \"source\": 31, \"value\": 1}, {\"target\": 42, \"source\": 31, \"value\": 1}, {\"target\": 47, \"source\": 31, \"value\": 2}, {\"target\": 57, \"source\": 32, \"value\": 3}, {\"target\": 60, \"source\": 32, \"value\": 2}, {\"target\": 67, \"source\": 32, \"value\": 4}, {\"target\": 45, \"source\": 32, \"value\": 3}, {\"target\": 70, \"source\": 32, \"value\": 9}, {\"target\": 50, \"source\": 32, \"value\": 4}, {\"target\": 51, \"source\": 32, \"value\": 4}, {\"target\": 52, \"source\": 32, \"value\": 1}, {\"target\": 70, \"source\": 33, \"value\": 1}, {\"target\": 69, \"source\": 34, \"value\": 10}, {\"target\": 70, \"source\": 34, \"value\": 3}, {\"target\": 76, \"source\": 34, \"value\": 6}, {\"target\": 56, \"source\": 35, \"value\": 1}, {\"target\": 71, \"source\": 35, \"value\": 1}, {\"target\": 37, \"source\": 35, \"value\": 3}, {\"target\": 38, \"source\": 35, \"value\": 2}, {\"target\": 39, \"source\": 35, \"value\": 1}, {\"target\": 49, \"source\": 35, \"value\": 1}, {\"target\": 63, \"source\": 35, \"value\": 1}, {\"target\": 42, \"source\": 35, \"value\": 2}, {\"target\": 70, \"source\": 36, \"value\": 1}, {\"target\": 44, \"source\": 36, \"value\": 2}, {\"target\": 40, \"source\": 36, \"value\": 6}, {\"target\": 72, \"source\": 36, \"value\": 4}, {\"target\": 56, \"source\": 38, \"value\": 5}, {\"target\": 74, \"source\": 38, \"value\": 1}, {\"target\": 63, \"source\": 38, \"value\": 5}, {\"target\": 39, \"source\": 38, \"value\": 5}, {\"target\": 49, \"source\": 38, \"value\": 9}, {\"target\": 71, \"source\": 38, \"value\": 15}, {\"target\": 42, \"source\": 38, \"value\": 13}, {\"target\": 56, \"source\": 39, \"value\": 5}, {\"target\": 74, \"source\": 39, \"value\": 1}, {\"target\": 63, \"source\": 39, \"value\": 1}, {\"target\": 49, \"source\": 39, \"value\": 6}, {\"target\": 71, \"source\": 39, \"value\": 6}, {\"target\": 42, \"source\": 39, \"value\": 6}, {\"target\": 70, \"source\": 40, \"value\": 1}, {\"target\": 44, \"source\": 40, \"value\": 2}, {\"target\": 72, \"source\": 40, \"value\": 4}, {\"target\": 70, \"source\": 41, \"value\": 1}, {\"target\": 58, \"source\": 42, \"value\": 1}, {\"target\": 63, \"source\": 42, \"value\": 9}, {\"target\": 56, \"source\": 42, \"value\": 5}, {\"target\": 49, \"source\": 42, \"value\": 12}, {\"target\": 71, \"source\": 42, \"value\": 17}, {\"target\": 74, \"source\": 42, \"value\": 2}, {\"target\": 63, \"source\": 43, \"value\": 1}, {\"target\": 64, \"source\": 43, \"value\": 1}, {\"target\": 70, \"source\": 44, \"value\": 1}, {\"target\": 72, \"source\": 44, \"value\": 2}, {\"target\": 57, \"source\": 45, \"value\": 4}, {\"target\": 50, \"source\": 45, \"value\": 3}, {\"target\": 51, \"source\": 45, \"value\": 4}, {\"target\": 67, \"source\": 45, \"value\": 3}, {\"target\": 66, \"source\": 46, \"value\": 1}, {\"target\": 63, \"source\": 48, \"value\": 1}, {\"target\": 58, \"source\": 49, \"value\": 1}, {\"target\": 63, \"source\": 49, \"value\": 5}, {\"target\": 56, \"source\": 49, \"value\": 7}, {\"target\": 70, \"source\": 49, \"value\": 1}, {\"target\": 71, \"source\": 49, \"value\": 10}, {\"target\": 74, \"source\": 49, \"value\": 3}, {\"target\": 57, \"source\": 50, \"value\": 3}, {\"target\": 51, \"source\": 50, \"value\": 5}, {\"target\": 67, \"source\": 50, \"value\": 4}, {\"target\": 57, \"source\": 51, \"value\": 3}, {\"target\": 67, \"source\": 51, \"value\": 4}, {\"target\": 53, \"source\": 52, \"value\": 1}, {\"target\": 70, \"source\": 52, \"value\": 2}, {\"target\": 59, \"source\": 52, \"value\": 2}, {\"target\": 54, \"source\": 52, \"value\": 1}, {\"target\": 70, \"source\": 53, \"value\": 2}, {\"target\": 54, \"source\": 53, \"value\": 2}, {\"target\": 59, \"source\": 53, \"value\": 2}, {\"target\": 70, \"source\": 54, \"value\": 2}, {\"target\": 59, \"source\": 54, \"value\": 2}, {\"target\": 69, \"source\": 55, \"value\": 1}, {\"target\": 58, \"source\": 56, \"value\": 1}, {\"target\": 63, \"source\": 56, \"value\": 2}, {\"target\": 71, \"source\": 56, \"value\": 5}, {\"target\": 74, \"source\": 56, \"value\": 2}, {\"target\": 63, \"source\": 57, \"value\": 1}, {\"target\": 67, \"source\": 57, \"value\": 3}, {\"target\": 71, \"source\": 58, \"value\": 1}, {\"target\": 74, \"source\": 58, \"value\": 1}, {\"target\": 70, \"source\": 59, \"value\": 3}, {\"target\": 70, \"source\": 60, \"value\": 3}, {\"target\": 63, \"source\": 61, \"value\": 6}, {\"target\": 64, \"source\": 61, \"value\": 9}, {\"target\": 70, \"source\": 61, \"value\": 2}, {\"target\": 65, \"source\": 61, \"value\": 2}, {\"target\": 64, \"source\": 63, \"value\": 12}, {\"target\": 65, \"source\": 63, \"value\": 1}, {\"target\": 70, \"source\": 63, \"value\": 19}, {\"target\": 71, \"source\": 63, \"value\": 7}, {\"target\": 70, \"source\": 64, \"value\": 2}, {\"target\": 75, \"source\": 64, \"value\": 1}, {\"target\": 65, \"source\": 64, \"value\": 1}, {\"target\": 69, \"source\": 68, \"value\": 2}, {\"target\": 73, \"source\": 69, \"value\": 1}, {\"target\": 70, \"source\": 69, \"value\": 5}, {\"target\": 76, \"source\": 69, \"value\": 8}, {\"target\": 71, \"source\": 70, \"value\": 4}, {\"target\": 72, \"source\": 70, \"value\": 1}, {\"target\": 76, \"source\": 70, \"value\": 3}, {\"target\": 74, \"source\": 71, \"value\": 3}, {\"target\": 72, \"source\": 71, \"value\": 1}]},\n",
       "        'width': 600,\n",
       "        'height': 400,\n",
       "    }\n",
       "\n",
       "    if (window.d3 === undefined) {\n",
       "        console.log('Loading D3 from CDN');\n",
       "        $.getScript('https://cdnjs.cloudflare.com/ajax/libs/d3/3.5.7/d3.js')\n",
       "            .done(function() {\n",
       "                plot_force(options);\n",
       "            });\n",
       "    } else {\n",
       "        plot_force(options);\n",
       "    }\n",
       "\n",
       "    function plot_force(o) {\n",
       "        var color = d3.scale.category20();\n",
       "\n",
       "        var svg = d3.select(o.divid).append(\"svg\")\n",
       "            .attr(\"width\", o.width)\n",
       "            .attr(\"height\", o.height);\n",
       "\n",
       "        var force = d3.layout.force()\n",
       "            .charge(-120)\n",
       "            .linkDistance(30)\n",
       "            .size([o.width, o.height])\n",
       "            .nodes(o.data.nodes)\n",
       "            .links(o.data.links)\n",
       "            .start();\n",
       "\n",
       "        var link = svg.selectAll(\".link\")\n",
       "                .data(o.data.links)\n",
       "            .enter().append(\"line\")\n",
       "                .attr(\"class\", \"link\")\n",
       "                .style(\"stroke-width\", function(d) { return Math.sqrt(d.value); });\n",
       "\n",
       "        var node = svg.selectAll(\".node\")\n",
       "                .data(o.data.nodes)\n",
       "            .enter().append(\"circle\")\n",
       "                .attr(\"class\", \"node\")\n",
       "                .attr(\"r\", 5)\n",
       "                .style(\"fill\", function(d) { return color(d.group); })\n",
       "                .call(force.drag);\n",
       "\n",
       "        node.append(\"title\")\n",
       "            .text(function(d) { return d.name; });\n",
       "\n",
       "        force.on(\"tick\", function() {\n",
       "            link.attr(\"x1\", function(d) { return d.source.x; })\n",
       "                .attr(\"y1\", function(d) { return d.source.y; })\n",
       "                .attr(\"x2\", function(d) { return d.target.x; })\n",
       "                .attr(\"y2\", function(d) { return d.target.y; });\n",
       "\n",
       "            node.attr(\"cx\", function(d) { return d.x; })\n",
       "                .attr(\"cy\", function(d) { return d.y; });\n",
       "        });\n",
       "    }\n",
       "}();\n",
       "</script>\n",
       "<div id=\"x62e1572623d14c19b8161b2d7e37ad5d\">\n",
       "</div>"
      ],
      "text/plain": [
       "<IPython.core.display.HTML object>"
      ]
     },
     "execution_count": 4,
     "metadata": {},
     "output_type": "execute_result"
    }
   ],
   "source": [
    "G = nx.Graph()\n",
    "node_index_map = {}\n",
    "for i, node in enumerate(lesmis['nodes']):\n",
    "    node_index_map[i] = node['name']\n",
    "    G.add_node(node['name'], group=node['group'])\n",
    "for edge in lesmis['links']:\n",
    "    G.add_edge(node_index_map[edge['source']], node_index_map[edge['target']], weight=edge['value'])\n",
    "    \n",
    "d3shims.nx_force(G)"
   ]
  },
  {
   "cell_type": "code",
   "execution_count": null,
   "metadata": {
    "collapsed": true
   },
   "outputs": [],
   "source": []
  }
 ],
 "metadata": {
  "kernelspec": {
   "display_name": "Python 3",
   "language": "python",
   "name": "python3"
  },
  "language_info": {
   "codemirror_mode": {
    "name": "ipython",
    "version": 3
   },
   "file_extension": ".py",
   "mimetype": "text/x-python",
   "name": "python",
   "nbconvert_exporter": "python",
   "pygments_lexer": "ipython3",
   "version": "3.4.2"
  }
 },
 "nbformat": 4,
 "nbformat_minor": 0
}
